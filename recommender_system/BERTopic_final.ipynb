{
 "cells": [
  {
   "cell_type": "code",
   "execution_count": 195,
   "metadata": {},
   "outputs": [],
   "source": [
    "# %pip install bertopic\n",
    "# %pip install indicnlp-library\n",
    "# %pip install transformers"
   ]
  },
  {
   "cell_type": "code",
   "execution_count": 196,
   "metadata": {},
   "outputs": [
    {
     "data": {
      "text/html": [
       "<div>\n",
       "<style scoped>\n",
       "    .dataframe tbody tr th:only-of-type {\n",
       "        vertical-align: middle;\n",
       "    }\n",
       "\n",
       "    .dataframe tbody tr th {\n",
       "        vertical-align: top;\n",
       "    }\n",
       "\n",
       "    .dataframe thead th {\n",
       "        text-align: right;\n",
       "    }\n",
       "</style>\n",
       "<table border=\"1\" class=\"dataframe\">\n",
       "  <thead>\n",
       "    <tr style=\"text-align: right;\">\n",
       "      <th></th>\n",
       "      <th>news_id</th>\n",
       "      <th>news_date</th>\n",
       "      <th>news_category</th>\n",
       "      <th>news_title</th>\n",
       "      <th>news_article</th>\n",
       "    </tr>\n",
       "  </thead>\n",
       "  <tbody>\n",
       "    <tr>\n",
       "      <th>0</th>\n",
       "      <td>6</td>\n",
       "      <td>1/6/2011 2:45:49 PM</td>\n",
       "      <td>மர்மம்</td>\n",
       "      <td>தூக்கில் தொங்கும் சேவல்கள் திருடர்களை காவு வாங...</td>\n",
       "      <td>நாலு ஆள் உயரம், முறுக்கு மீசை, கையில் வீச்சரிவ...</td>\n",
       "    </tr>\n",
       "    <tr>\n",
       "      <th>1</th>\n",
       "      <td>9</td>\n",
       "      <td>1/6/2011 2:56:51 PM</td>\n",
       "      <td>மர்மம்</td>\n",
       "      <td>பவுர்ணமி ஜாமத்தில் மாயமான கர்ப்பிணி</td>\n",
       "      <td>அமானுஷ்யமான சம்பவங்கள் நம்மை சுற்றி ஆங்காங்கே ...</td>\n",
       "    </tr>\n",
       "    <tr>\n",
       "      <th>2</th>\n",
       "      <td>10</td>\n",
       "      <td>1/6/2011 3:02:00 PM</td>\n",
       "      <td>இந்தியா</td>\n",
       "      <td>காமன்வெல்த் ஊழல் சுரேஷ் கல்மாடியிடம் கேள்விகள்</td>\n",
       "      <td>காமன்வெல்த் போட்டி ஏற்பாட்டில் நடைபெற்ற முறைகே...</td>\n",
       "    </tr>\n",
       "    <tr>\n",
       "      <th>3</th>\n",
       "      <td>11</td>\n",
       "      <td>1/6/2011 3:08:15 PM</td>\n",
       "      <td>மர்மம்</td>\n",
       "      <td>மச்சுபிச்சு மலை ரகசியம்</td>\n",
       "      <td>தென்அமெரிக்க நாடான பெருவில் காடுகள் மிகவும் பய...</td>\n",
       "    </tr>\n",
       "    <tr>\n",
       "      <th>4</th>\n",
       "      <td>12</td>\n",
       "      <td>1/6/2011 3:09:20 PM</td>\n",
       "      <td>மர்மம்</td>\n",
       "      <td>ரத்த பலி வாங்கும் விபரீத ஆவி</td>\n",
       "      <td>கடந்த 18ம் தேதி சாயங்காலம்... அடைமழையை கிழித்த...</td>\n",
       "    </tr>\n",
       "    <tr>\n",
       "      <th>...</th>\n",
       "      <td>...</td>\n",
       "      <td>...</td>\n",
       "      <td>...</td>\n",
       "      <td>...</td>\n",
       "      <td>...</td>\n",
       "    </tr>\n",
       "    <tr>\n",
       "      <th>9995</th>\n",
       "      <td>10152</td>\n",
       "      <td>7/14/2011 1:09:23 PM</td>\n",
       "      <td>விளையாட்டு</td>\n",
       "      <td>பயிற்சி ஆட்டத்தில் இந்தியா நாளை மோதல்</td>\n",
       "      <td>4 டெஸ்ட் போட்டி, ஒரு 20-20, 5 ஒன்டேயில் பங்கேற...</td>\n",
       "    </tr>\n",
       "    <tr>\n",
       "      <th>9996</th>\n",
       "      <td>10153</td>\n",
       "      <td>7/14/2011 1:54:26 PM</td>\n",
       "      <td>விளையாட்டு</td>\n",
       "      <td>சச்சின் புதிய அவதாரம் நாசர் உசேன்</td>\n",
       "      <td>இங்கிலாந்து கிரிக்கெட் அணியின் மாஜி கேப்டன் நா...</td>\n",
       "    </tr>\n",
       "    <tr>\n",
       "      <th>9997</th>\n",
       "      <td>10154</td>\n",
       "      <td>7/14/2011 2:02:13 PM</td>\n",
       "      <td>ஸ்டேட் எக்ஸ்பிரஸ்</td>\n",
       "      <td>லோக்பாலில் பிரதமர் ராகுல்காந்தி எதிர்ப்பு</td>\n",
       "      <td>புவனேஷ்வர்: ஊழல் அமைச்சர்கள், அதிகாரிகளை கடுமை...</td>\n",
       "    </tr>\n",
       "    <tr>\n",
       "      <th>9998</th>\n",
       "      <td>10155</td>\n",
       "      <td>7/14/2011 2:10:53 PM</td>\n",
       "      <td>ஸ்டேட் எக்ஸ்பிரஸ்</td>\n",
       "      <td>நக்சல்கள் தப்பினர் போலீசார் சஸ்பெண்ட்</td>\n",
       "      <td>ராய்ப்பூர்: சட்டீஸ்கர் மாநிலம் நாராயண்பூர் மாவ...</td>\n",
       "    </tr>\n",
       "    <tr>\n",
       "      <th>9999</th>\n",
       "      <td>10156</td>\n",
       "      <td>7/14/2011 2:11:26 PM</td>\n",
       "      <td>ஸ்டேட் எக்ஸ்பிரஸ்</td>\n",
       "      <td>சிறையில் அதிகாரி கொலை சிபிஐ விசாரணை</td>\n",
       "      <td>லக்னோ: உத்தரபிரதேச மாநில சுகாதாரத்துறையில் தலை...</td>\n",
       "    </tr>\n",
       "  </tbody>\n",
       "</table>\n",
       "<p>10000 rows × 5 columns</p>\n",
       "</div>"
      ],
      "text/plain": [
       "      news_id             news_date      news_category  \\\n",
       "0           6   1/6/2011 2:45:49 PM             மர்மம்   \n",
       "1           9   1/6/2011 2:56:51 PM             மர்மம்   \n",
       "2          10   1/6/2011 3:02:00 PM            இந்தியா   \n",
       "3          11   1/6/2011 3:08:15 PM             மர்மம்   \n",
       "4          12   1/6/2011 3:09:20 PM             மர்மம்   \n",
       "...       ...                   ...                ...   \n",
       "9995    10152  7/14/2011 1:09:23 PM         விளையாட்டு   \n",
       "9996    10153  7/14/2011 1:54:26 PM         விளையாட்டு   \n",
       "9997    10154  7/14/2011 2:02:13 PM  ஸ்டேட் எக்ஸ்பிரஸ்   \n",
       "9998    10155  7/14/2011 2:10:53 PM  ஸ்டேட் எக்ஸ்பிரஸ்   \n",
       "9999    10156  7/14/2011 2:11:26 PM  ஸ்டேட் எக்ஸ்பிரஸ்   \n",
       "\n",
       "                                             news_title  \\\n",
       "0     தூக்கில் தொங்கும் சேவல்கள் திருடர்களை காவு வாங...   \n",
       "1                   பவுர்ணமி ஜாமத்தில் மாயமான கர்ப்பிணி   \n",
       "2        காமன்வெல்த் ஊழல் சுரேஷ் கல்மாடியிடம் கேள்விகள்   \n",
       "3                               மச்சுபிச்சு மலை ரகசியம்   \n",
       "4                          ரத்த பலி வாங்கும் விபரீத ஆவி   \n",
       "...                                                 ...   \n",
       "9995              பயிற்சி ஆட்டத்தில் இந்தியா நாளை மோதல்   \n",
       "9996                  சச்சின் புதிய அவதாரம் நாசர் உசேன்   \n",
       "9997          லோக்பாலில் பிரதமர் ராகுல்காந்தி எதிர்ப்பு   \n",
       "9998              நக்சல்கள் தப்பினர் போலீசார் சஸ்பெண்ட்   \n",
       "9999                சிறையில் அதிகாரி கொலை சிபிஐ விசாரணை   \n",
       "\n",
       "                                           news_article  \n",
       "0     நாலு ஆள் உயரம், முறுக்கு மீசை, கையில் வீச்சரிவ...  \n",
       "1     அமானுஷ்யமான சம்பவங்கள் நம்மை சுற்றி ஆங்காங்கே ...  \n",
       "2     காமன்வெல்த் போட்டி ஏற்பாட்டில் நடைபெற்ற முறைகே...  \n",
       "3     தென்அமெரிக்க நாடான பெருவில் காடுகள் மிகவும் பய...  \n",
       "4     கடந்த 18ம் தேதி சாயங்காலம்... அடைமழையை கிழித்த...  \n",
       "...                                                 ...  \n",
       "9995  4 டெஸ்ட் போட்டி, ஒரு 20-20, 5 ஒன்டேயில் பங்கேற...  \n",
       "9996  இங்கிலாந்து கிரிக்கெட் அணியின் மாஜி கேப்டன் நா...  \n",
       "9997  புவனேஷ்வர்: ஊழல் அமைச்சர்கள், அதிகாரிகளை கடுமை...  \n",
       "9998  ராய்ப்பூர்: சட்டீஸ்கர் மாநிலம் நாராயண்பூர் மாவ...  \n",
       "9999  லக்னோ: உத்தரபிரதேச மாநில சுகாதாரத்துறையில் தலை...  \n",
       "\n",
       "[10000 rows x 5 columns]"
      ]
     },
     "execution_count": 196,
     "metadata": {},
     "output_type": "execute_result"
    }
   ],
   "source": [
    "# get processed data\n",
    "\n",
    "import os\n",
    "import pandas as pd\n",
    "\n",
    "file_path = \"../data/\"\n",
    "\n",
    "data = pd.read_csv(file_path+\"train.csv\")\n",
    "\n",
    "data"
   ]
  },
  {
   "cell_type": "code",
   "execution_count": 197,
   "metadata": {},
   "outputs": [],
   "source": [
    "# Convert to list\n",
    "df=data[\"news_title\"]\n",
    "\n",
    "docs = [str(i) for i in df.values]"
   ]
  },
  {
   "cell_type": "code",
   "execution_count": 198,
   "metadata": {},
   "outputs": [],
   "source": [
    "\n",
    "import torch\n",
    "from transformers import BertModel, BertTokenizerFast\n",
    "\n",
    "tokenizer = BertTokenizerFast.from_pretrained(\"setu4993/LaBSE\")\n",
    "model = BertModel.from_pretrained(\"setu4993/LaBSE\")\n",
    "\n",
    "# Set model to evaluation mode\n",
    "model.eval()\n",
    "\n",
    "\n",
    "\"\"\"\n",
    "Encode a batch of documents using LaBSE model and return their embeddings.\n",
    "Args:\n",
    "    docs: List of strings representing the documents to be encoded.\n",
    "    batch_size: Size of the batch to be used during encoding.\n",
    "Returns:\n",
    "    embeddings: Tensor of shape (n_docs, embedding_size) representing the document embeddings.\n",
    "\"\"\"\n",
    "# Encode the documents in batches\n",
    "n_docs = len(docs)\n",
    "batch_size = 8\n",
    "embeds = torch.zeros((n_docs, model.config.hidden_size))\n",
    "for i in range(0, n_docs, batch_size):\n",
    "    batch = docs[i:i+batch_size]\n",
    "    inputs = tokenizer(batch, return_tensors=\"pt\", padding=True)\n",
    "    with torch.no_grad():\n",
    "        outputs = model(**inputs)\n",
    "    batch_embeddings = outputs.pooler_output\n",
    "    embeds[i:i+batch_size] = batch_embeddings\n"
   ]
  },
  {
   "cell_type": "code",
   "execution_count": 199,
   "metadata": {},
   "outputs": [
    {
     "data": {
      "text/plain": [
       "tensor([[-0.0542,  0.0662,  0.2013,  ..., -0.0550,  0.4897, -0.1781],\n",
       "        [-0.0217,  0.1333,  0.2769,  ..., -0.5482,  0.2192, -0.3742],\n",
       "        [ 0.1480, -0.2869, -0.3375,  ...,  0.2197,  0.1875,  0.2111],\n",
       "        ...,\n",
       "        [-0.4120,  0.0943,  0.1605,  ...,  0.0986,  0.2840, -0.4498],\n",
       "        [-0.3694, -0.0153,  0.1946,  ...,  0.1024,  0.4258, -0.4821],\n",
       "        [-0.1716, -0.0368, -0.3966,  ...,  0.2638,  0.5344, -0.0260]])"
      ]
     },
     "execution_count": 199,
     "metadata": {},
     "output_type": "execute_result"
    }
   ],
   "source": [
    "#save embeddings\n",
    "\n",
    "# import pickle\n",
    "\n",
    "# with open(file_path+\"embeddings.pkl\", \"wb\") as f:\n",
    "#     pickle.dump(embeds, f)\n",
    "\n",
    "#load embeddings\n",
    "\n",
    "import pickle\n",
    "\n",
    "with open(file_path+\"embeddings.pkl\", \"rb\") as f:\n",
    "\n",
    "    embeds = pickle.load(f)\n",
    "\n",
    "embeds"
   ]
  },
  {
   "cell_type": "code",
   "execution_count": 200,
   "metadata": {},
   "outputs": [],
   "source": [
    "# Fine tune UMAP - DIMENSIONALITY REDUCTION STEP\n",
    "\n",
    "from umap import UMAP\n",
    "\n",
    "\n",
    "umap_model = UMAP(n_neighbors=3, n_components=3, min_dist=0.05)\n",
    "\n"
   ]
  },
  {
   "cell_type": "code",
   "execution_count": 201,
   "metadata": {},
   "outputs": [],
   "source": [
    "# Fine tune HDBSCAN - CLUSTERING STEP\n",
    "\n",
    "from hdbscan import HDBSCAN\n",
    "\n",
    "hdbscan_model = HDBSCAN(min_cluster_size=60, min_samples=30,\n",
    "                        prediction_data=True, gen_min_span_tree=True)"
   ]
  },
  {
   "cell_type": "code",
   "execution_count": 202,
   "metadata": {},
   "outputs": [],
   "source": [
    "# Tokenize docs trivially (split on spaces)\n",
    "\n",
    "from indicnlp.tokenize import sentence_tokenize, indic_tokenize\n",
    "\n",
    "def tokenize_ta(text,return_tensors=\"pt\",*args,**kwargs):\n",
    "    return indic_tokenize.trivial_tokenize(text)"
   ]
  },
  {
   "cell_type": "code",
   "execution_count": 203,
   "metadata": {},
   "outputs": [],
   "source": [
    "# Common list of stopwords\n",
    "\n",
    "stopwords=['அங்கு',\n",
    " 'அங்கே',\n",
    " 'அடுத்த',\n",
    " 'அதனால்',\n",
    " 'அதன்',\n",
    " 'அதற்கு',\n",
    " 'அதிக',\n",
    " 'அதில்',\n",
    " 'அது',\n",
    " 'அதே',\n",
    " 'அதை',\n",
    " 'அந்த',\n",
    " 'அந்தக்',\n",
    " 'அந்தப்',\n",
    " 'அன்று',\n",
    " 'அல்லது',\n",
    " 'அவன்',\n",
    " 'அவரது',\n",
    " 'அவர்',\n",
    " 'அவர்கள்',\n",
    " 'அவள்',\n",
    " 'அவை',\n",
    " 'ஆகிய',\n",
    " 'ஆகியோர்',\n",
    " 'ஆகும்',\n",
    " 'இங்கு',\n",
    " 'இங்கே',\n",
    " 'இடத்தில்',\n",
    " 'இடம்',\n",
    " 'இதனால்',\n",
    " 'இதனை',\n",
    " 'இதன்',\n",
    " 'இதற்கு',\n",
    " 'இதில்',\n",
    " 'இது',\n",
    " 'இதை',\n",
    " 'இந்த',\n",
    " 'இந்தக்',\n",
    " 'இந்தத்',\n",
    " 'இந்தப்',\n",
    " 'இன்னும்',\n",
    " 'இப்போது',\n",
    " 'இரு',\n",
    " 'இருக்கும்',\n",
    " 'இருந்த',\n",
    " 'இருந்தது',\n",
    " 'இருந்து',\n",
    " 'இவர்',\n",
    " 'இவை',\n",
    " 'உன்',\n",
    " 'உள்ள',\n",
    " 'உள்ளது',\n",
    " 'உள்ளன',\n",
    " 'எந்த',\n",
    " 'என',\n",
    " 'எனக்',\n",
    " 'எனக்கு',\n",
    " 'எனப்படும்',\n",
    " 'எனவும்',\n",
    " 'எனவே',\n",
    " 'எனினும்',\n",
    " 'எனும்',\n",
    " 'என்',\n",
    " 'என்ன',\n",
    " 'என்னும்',\n",
    " 'என்பது',\n",
    " 'என்பதை',\n",
    " 'என்ற',\n",
    " 'என்று',\n",
    " 'என்றும்',\n",
    " 'எல்லாம்',\n",
    " 'ஏன்',\n",
    " 'ஒரு',\n",
    " 'ஒரே',\n",
    " 'ஓர்',\n",
    " 'கொண்ட',\n",
    " 'கொண்டு',\n",
    " 'கொள்ள',\n",
    " 'சற்று',\n",
    " 'சிறு',\n",
    " 'சில',\n",
    " 'சேர்ந்த',\n",
    " 'தனது',\n",
    " 'தன்',\n",
    " 'தவிர',\n",
    " 'தான்',\n",
    " 'நான்',\n",
    " 'நாம்',\n",
    " 'நீ',\n",
    " 'பற்றி',\n",
    " 'பற்றிய',\n",
    " 'பல',\n",
    " 'பலரும்',\n",
    " 'பல்வேறு',\n",
    " 'பின்',\n",
    " 'பின்னர்',\n",
    " 'பிற',\n",
    " 'பிறகு',\n",
    " 'பெரும்',\n",
    " 'பேர்',\n",
    " 'போது',\n",
    " 'போன்ற',\n",
    " 'போல',\n",
    " 'போல்',\n",
    " 'மட்டுமே',\n",
    " 'மட்டும்',\n",
    " 'மற்ற',\n",
    " 'மற்றும்',\n",
    " 'மிக',\n",
    " 'மிகவும்',\n",
    " 'மீது',\n",
    " 'முதல்',\n",
    " 'முறை',\n",
    " 'மேலும்',\n",
    " 'மேல்',\n",
    " 'யார்',\n",
    " 'வந்த',\n",
    " 'வந்து',\n",
    " 'வரும்',\n",
    " 'வரை',\n",
    " 'வரையில்',\n",
    " 'விட',\n",
    " 'விட்டு',\n",
    " 'வேண்டும்',\n",
    " 'வேறு']\n",
    "\n",
    "from sklearn.feature_extraction.text import CountVectorizer\n",
    "\n",
    "# Create a vectorizer object to generate term document counts for topic representation - TOKENIZATION STEP\n",
    "\n",
    "vectorizer_model = CountVectorizer(\n",
    "    stop_words=stopwords,analyzer='word',\n",
    "    tokenizer=tokenize_ta\n",
    ")"
   ]
  },
  {
   "cell_type": "code",
   "execution_count": 204,
   "metadata": {},
   "outputs": [],
   "source": [
    "import pandas as pd\n",
    "from scipy.sparse import csr_matrix\n",
    "from typing import List, Mapping, Tuple, Union\n",
    "import stanza\n",
    "\n",
    "class TamilPOS():\n",
    "    \"\"\"\n",
    "    Extract Topic Keywords based on their Part-of-Speech using stanza library for Tamil.\n",
    "    \"\"\"\n",
    "    def __init__(self,\n",
    "                 top_n_words: int = 10,\n",
    "                 pos_patterns: List[str] = None):\n",
    "        self.top_n_words = top_n_words\n",
    "\n",
    "        if pos_patterns is None:\n",
    "            self.pos_patterns = [\n",
    "                'NOUN',\n",
    "                'PROPN',\n",
    "                'ADJ',\n",
    "            ]\n",
    "        else:\n",
    "            self.pos_patterns = pos_patterns\n",
    "\n",
    "        # load stanza pipeline for Tamil\n",
    "\n",
    "        self.nlp = stanza.Pipeline(lang='ta', processors='tokenize,pos')\n",
    "\n",
    "    def extract_topics(self,\n",
    "                       topic_model,\n",
    "                       documents: pd.DataFrame,\n",
    "                       c_tf_idf: csr_matrix,\n",
    "                       topics: Mapping[str, List[Tuple[str, float]]]\n",
    "                       ) -> Mapping[str, List[Tuple[str, float]]]:\n",
    "        topic_to_keywords = {}\n",
    "        for topic_id, topic_words in topics.items():\n",
    "\n",
    "            # filter candidate documents that contain at least one keyword from the topic\n",
    "\n",
    "            mask = documents['text'].str.contains('|'.join([word[0] for word in topic_words]), regex=True)\n",
    "            candidate_docs = documents[mask]\n",
    "\n",
    "            # extract candidate keywords from candidate_docs based on POS patterns\n",
    "\n",
    "            candidate_keywords = []\n",
    "            for doc in candidate_docs['text']:\n",
    "                doc_keywords = []\n",
    "\n",
    "                # get POS tags for each word in the document\n",
    "\n",
    "                doc_words = self.nlp(doc).sentences[0].words\n",
    "                for word in doc_words:\n",
    "                    if word.upos in self.pos_patterns:\n",
    "                        doc_keywords.append(word.text)\n",
    "                candidate_keywords.extend(doc_keywords)\n",
    "\n",
    "            # count the frequency of each keyword and keep the top n\n",
    "\n",
    "            candidate_keyword_counts = pd.Series(candidate_keywords).value_counts().head(self.top_n_words)\n",
    "\n",
    "            # normalize keyword counts\n",
    "\n",
    "            candidate_keyword_counts = candidate_keyword_counts / candidate_docs.shape[0]\n",
    "\n",
    "            # assign c-TF-IDF scores to keywords\n",
    "\n",
    "            keyword_scores = [(word, topic_model.get_topic(topic_id)[word]) for word in candidate_keyword_counts.index]\n",
    "\n",
    "            # sort keywords by their respective c-TF-IDF scores\n",
    "\n",
    "            sorted_keyword_scores = sorted(keyword_scores, key=lambda x: x[1], reverse=True)\n",
    "\n",
    "            # add top n keywords to topic_to_keywords dict\n",
    "            \n",
    "            topic_to_keywords[topic_id] = sorted_keyword_scores[:self.top_n_words]\n",
    "        return topic_to_keywords\n"
   ]
  },
  {
   "cell_type": "code",
   "execution_count": 205,
   "metadata": {},
   "outputs": [
    {
     "name": "stderr",
     "output_type": "stream",
     "text": [
      "2023-04-18 19:27:28 INFO: Checking for updates to resources.json in case models have been updated.  Note: this behavior can be turned off with download_method=None or download_method=DownloadMethod.REUSE_RESOURCES\n",
      "Downloading https://raw.githubusercontent.com/stanfordnlp/stanza-resources/main/resources_1.5.0.json: 200kB [00:00, 26.7MB/s]                    \n",
      "2023-04-18 19:27:28 WARNING: Language ta package default expects mwt, which has been added\n",
      "2023-04-18 19:27:29 INFO: Loading these models for language: ta (Tamil):\n",
      "=======================\n",
      "| Processor | Package |\n",
      "-----------------------\n",
      "| tokenize  | ttb     |\n",
      "| mwt       | ttb     |\n",
      "| pos       | ttb     |\n",
      "=======================\n",
      "\n",
      "2023-04-18 19:27:29 INFO: Using device: cpu\n",
      "2023-04-18 19:27:29 INFO: Loading: tokenize\n",
      "2023-04-18 19:27:29 INFO: Loading: mwt\n",
      "2023-04-18 19:27:29 INFO: Loading: pos\n",
      "2023-04-18 19:27:29 INFO: Done loading processors!\n"
     ]
    }
   ],
   "source": [
    "representation_model = TamilPOS()"
   ]
  },
  {
   "cell_type": "code",
   "execution_count": 206,
   "metadata": {},
   "outputs": [],
   "source": [
    "\n",
    "# Create a BERTopic model\n",
    "\n",
    "from bertopic import BERTopic\n",
    "\n",
    "topic_model = BERTopic(\n",
    "    verbose=True,\n",
    "    calculate_probabilities=True,\n",
    "    embedding_model=model,\n",
    "    vectorizer_model=vectorizer_model,\n",
    "    umap_model=umap_model,\n",
    "    hdbscan_model=hdbscan_model,\n",
    "    representation_model=representation_model,\n",
    "    \n",
    ")"
   ]
  },
  {
   "cell_type": "code",
   "execution_count": 207,
   "metadata": {},
   "outputs": [
    {
     "name": "stderr",
     "output_type": "stream",
     "text": [
      "2023-04-18 19:27:32,684 - BERTopic - Reduced dimensionality\n",
      "2023-04-18 19:27:33,339 - BERTopic - Clustered reduced embeddings\n"
     ]
    }
   ],
   "source": [
    "# Fit the model on the documents\n",
    "\n",
    "embeds_np = embeds.detach().numpy()\n",
    "topics,probs = topic_model.fit_transform(docs,embeds_np)"
   ]
  },
  {
   "cell_type": "code",
   "execution_count": 208,
   "metadata": {},
   "outputs": [
    {
     "data": {
      "text/html": [
       "<div>\n",
       "<style scoped>\n",
       "    .dataframe tbody tr th:only-of-type {\n",
       "        vertical-align: middle;\n",
       "    }\n",
       "\n",
       "    .dataframe tbody tr th {\n",
       "        vertical-align: top;\n",
       "    }\n",
       "\n",
       "    .dataframe thead th {\n",
       "        text-align: right;\n",
       "    }\n",
       "</style>\n",
       "<table border=\"1\" class=\"dataframe\">\n",
       "  <thead>\n",
       "    <tr style=\"text-align: right;\">\n",
       "      <th></th>\n",
       "      <th>Topic</th>\n",
       "      <th>Count</th>\n",
       "      <th>Name</th>\n",
       "    </tr>\n",
       "  </thead>\n",
       "  <tbody>\n",
       "    <tr>\n",
       "      <th>0</th>\n",
       "      <td>-1</td>\n",
       "      <td>4665</td>\n",
       "      <td>-1_தேர்தல்_கொலை_அரசு_நாளை</td>\n",
       "    </tr>\n",
       "    <tr>\n",
       "      <th>1</th>\n",
       "      <td>0</td>\n",
       "      <td>466</td>\n",
       "      <td>0_இந்தியா_மோதல்_இன்று_இங்கிலாந்து</td>\n",
       "    </tr>\n",
       "    <tr>\n",
       "      <th>2</th>\n",
       "      <td>1</td>\n",
       "      <td>431</td>\n",
       "      <td>1_காங்கிரஸ்_பிரதமர்_வழக்கு_பாஜ</td>\n",
       "    </tr>\n",
       "    <tr>\n",
       "      <th>3</th>\n",
       "      <td>2</td>\n",
       "      <td>365</td>\n",
       "      <td>2_டூர்_சம்மர்_பார்வை_தொகுதி</td>\n",
       "    </tr>\n",
       "    <tr>\n",
       "      <th>4</th>\n",
       "      <td>3</td>\n",
       "      <td>343</td>\n",
       "      <td>3_நடிகை_ஹீரோயின்_ஹீரோ_இயக்குனர்</td>\n",
       "    </tr>\n",
       "    <tr>\n",
       "      <th>5</th>\n",
       "      <td>4</td>\n",
       "      <td>248</td>\n",
       "      <td>4_கைது_லஞ்சம்_மோசடி_பிடிபட்டனர்</td>\n",
       "    </tr>\n",
       "    <tr>\n",
       "      <th>6</th>\n",
       "      <td>5</td>\n",
       "      <td>203</td>\n",
       "      <td>5_தேர்தல்_ஆணையம்_கமிஷன்_வாக்கு</td>\n",
       "    </tr>\n",
       "    <tr>\n",
       "      <th>7</th>\n",
       "      <td>6</td>\n",
       "      <td>191</td>\n",
       "      <td>6_சச்சின்_இல்லை_சேவாக்_சாம்பியன்</td>\n",
       "    </tr>\n",
       "    <tr>\n",
       "      <th>8</th>\n",
       "      <td>7</td>\n",
       "      <td>187</td>\n",
       "      <td>7_டோனி_கொச்சி_புனே_சச்சின்</td>\n",
       "    </tr>\n",
       "    <tr>\n",
       "      <th>9</th>\n",
       "      <td>8</td>\n",
       "      <td>169</td>\n",
       "      <td>8_கருணாநிதி_முதல்வர்_திருவா்_திமுக</td>\n",
       "    </tr>\n",
       "    <tr>\n",
       "      <th>10</th>\n",
       "      <td>9</td>\n",
       "      <td>167</td>\n",
       "      <td>9_மாணவி_மாணவர்கள்_பள்ளி_கல்லூரி</td>\n",
       "    </tr>\n",
       "    <tr>\n",
       "      <th>11</th>\n",
       "      <td>10</td>\n",
       "      <td>166</td>\n",
       "      <td>10_எடியூரப்பா_முதல்வர்_பதவி_பிரதமர்</td>\n",
       "    </tr>\n",
       "    <tr>\n",
       "      <th>12</th>\n",
       "      <td>11</td>\n",
       "      <td>161</td>\n",
       "      <td>11_டோனி_திருவள்ளூர்_கோரிக்கை_ரயில்</td>\n",
       "    </tr>\n",
       "    <tr>\n",
       "      <th>13</th>\n",
       "      <td>12</td>\n",
       "      <td>149</td>\n",
       "      <td>12_ஸ்பெஷல்_டைமிங்_டுடே_ஷாட்</td>\n",
       "    </tr>\n",
       "    <tr>\n",
       "      <th>14</th>\n",
       "      <td>13</td>\n",
       "      <td>148</td>\n",
       "      <td>13_லட்சம்_பறிமுதல்_கொள்ளை_அரிசி</td>\n",
       "    </tr>\n",
       "    <tr>\n",
       "      <th>15</th>\n",
       "      <td>14</td>\n",
       "      <td>134</td>\n",
       "      <td>14_சுற்றுலா_பயணிகள்_ஊட்டியில்_மீனவர்கள்</td>\n",
       "    </tr>\n",
       "    <tr>\n",
       "      <th>16</th>\n",
       "      <td>15</td>\n",
       "      <td>131</td>\n",
       "      <td>15_கல்வி_சமச்சீர்_கட்டணம்_பள்ளிகள்</td>\n",
       "    </tr>\n",
       "    <tr>\n",
       "      <th>17</th>\n",
       "      <td>16</td>\n",
       "      <td>127</td>\n",
       "      <td>16_ஜெயலலிதா_முதல்வர்_முகஸ்டாலின்_ஜெயலலிதாவுக்கு</td>\n",
       "    </tr>\n",
       "    <tr>\n",
       "      <th>18</th>\n",
       "      <td>17</td>\n",
       "      <td>123</td>\n",
       "      <td>17_மூழ்கி_சாவு_வாலிபர்_சிறுவன்</td>\n",
       "    </tr>\n",
       "    <tr>\n",
       "      <th>19</th>\n",
       "      <td>18</td>\n",
       "      <td>121</td>\n",
       "      <td>18_லாரி_மோதி_கார்_பரிதாப</td>\n",
       "    </tr>\n",
       "    <tr>\n",
       "      <th>20</th>\n",
       "      <td>19</td>\n",
       "      <td>104</td>\n",
       "      <td>19_ஐகோர்ட்_கோடி_குடும்பத்துக்கு_லட்சம்</td>\n",
       "    </tr>\n",
       "    <tr>\n",
       "      <th>21</th>\n",
       "      <td>20</td>\n",
       "      <td>103</td>\n",
       "      <td>20_திமுக_வெற்றி_கூட்டணி_அதிமுக</td>\n",
       "    </tr>\n",
       "    <tr>\n",
       "      <th>22</th>\n",
       "      <td>21</td>\n",
       "      <td>103</td>\n",
       "      <td>21_பஸ்_பலி_ஆம்னி_சாவு</td>\n",
       "    </tr>\n",
       "    <tr>\n",
       "      <th>23</th>\n",
       "      <td>22</td>\n",
       "      <td>102</td>\n",
       "      <td>22_அதிமுக_திமுக_கூட்டணியில்_மதிமுக</td>\n",
       "    </tr>\n",
       "    <tr>\n",
       "      <th>24</th>\n",
       "      <td>23</td>\n",
       "      <td>102</td>\n",
       "      <td>23_கொலை_மனைவி_தற்கொலை_பெண்</td>\n",
       "    </tr>\n",
       "    <tr>\n",
       "      <th>25</th>\n",
       "      <td>24</td>\n",
       "      <td>95</td>\n",
       "      <td>24_லிபியா_லிபியாவில்_நேட்டோ_கடாபி</td>\n",
       "    </tr>\n",
       "    <tr>\n",
       "      <th>26</th>\n",
       "      <td>25</td>\n",
       "      <td>88</td>\n",
       "      <td>25_கிளிப்பிங்ஸ்_டயட்_டைமிங்_ஸ்பெஷல்</td>\n",
       "    </tr>\n",
       "    <tr>\n",
       "      <th>27</th>\n",
       "      <td>26</td>\n",
       "      <td>84</td>\n",
       "      <td>26_சுப்ரீம்_கோர்ட்_தடை_நீதிமன்றம்</td>\n",
       "    </tr>\n",
       "    <tr>\n",
       "      <th>28</th>\n",
       "      <td>27</td>\n",
       "      <td>82</td>\n",
       "      <td>27_யானைகள்_யானை_அட்டகாசம்_அருகே</td>\n",
       "    </tr>\n",
       "    <tr>\n",
       "      <th>29</th>\n",
       "      <td>28</td>\n",
       "      <td>82</td>\n",
       "      <td>28_விலை_டீசல்_வில்லியம்_விற்பனை</td>\n",
       "    </tr>\n",
       "    <tr>\n",
       "      <th>30</th>\n",
       "      <td>29</td>\n",
       "      <td>77</td>\n",
       "      <td>29_பாகிஸ்தான்_பின்லேடன்_அமெரிக்கா_அமெரிக்க</td>\n",
       "    </tr>\n",
       "    <tr>\n",
       "      <th>31</th>\n",
       "      <td>30</td>\n",
       "      <td>77</td>\n",
       "      <td>30_விஜயகாந்த்_வடிவேலு_பாக்யராஜ்_திருமாவளவன்</td>\n",
       "    </tr>\n",
       "    <tr>\n",
       "      <th>32</th>\n",
       "      <td>31</td>\n",
       "      <td>74</td>\n",
       "      <td>31_கோயிலில்_திருப்பதி_தரிசனம்_கோயில்</td>\n",
       "    </tr>\n",
       "    <tr>\n",
       "      <th>33</th>\n",
       "      <td>32</td>\n",
       "      <td>68</td>\n",
       "      <td>32_தாக்குதல்_குண்டு_பலி_ஆப்கனில்</td>\n",
       "    </tr>\n",
       "    <tr>\n",
       "      <th>34</th>\n",
       "      <td>33</td>\n",
       "      <td>64</td>\n",
       "      <td>33_பைக்_மோதி_பலி_சாவு</td>\n",
       "    </tr>\n",
       "  </tbody>\n",
       "</table>\n",
       "</div>"
      ],
      "text/plain": [
       "    Topic  Count                                             Name\n",
       "0      -1   4665                        -1_தேர்தல்_கொலை_அரசு_நாளை\n",
       "1       0    466                0_இந்தியா_மோதல்_இன்று_இங்கிலாந்து\n",
       "2       1    431                   1_காங்கிரஸ்_பிரதமர்_வழக்கு_பாஜ\n",
       "3       2    365                      2_டூர்_சம்மர்_பார்வை_தொகுதி\n",
       "4       3    343                  3_நடிகை_ஹீரோயின்_ஹீரோ_இயக்குனர்\n",
       "5       4    248                  4_கைது_லஞ்சம்_மோசடி_பிடிபட்டனர்\n",
       "6       5    203                   5_தேர்தல்_ஆணையம்_கமிஷன்_வாக்கு\n",
       "7       6    191                 6_சச்சின்_இல்லை_சேவாக்_சாம்பியன்\n",
       "8       7    187                       7_டோனி_கொச்சி_புனே_சச்சின்\n",
       "9       8    169               8_கருணாநிதி_முதல்வர்_திருவா்_திமுக\n",
       "10      9    167                  9_மாணவி_மாணவர்கள்_பள்ளி_கல்லூரி\n",
       "11     10    166              10_எடியூரப்பா_முதல்வர்_பதவி_பிரதமர்\n",
       "12     11    161               11_டோனி_திருவள்ளூர்_கோரிக்கை_ரயில்\n",
       "13     12    149                      12_ஸ்பெஷல்_டைமிங்_டுடே_ஷாட்\n",
       "14     13    148                  13_லட்சம்_பறிமுதல்_கொள்ளை_அரிசி\n",
       "15     14    134          14_சுற்றுலா_பயணிகள்_ஊட்டியில்_மீனவர்கள்\n",
       "16     15    131               15_கல்வி_சமச்சீர்_கட்டணம்_பள்ளிகள்\n",
       "17     16    127  16_ஜெயலலிதா_முதல்வர்_முகஸ்டாலின்_ஜெயலலிதாவுக்கு\n",
       "18     17    123                   17_மூழ்கி_சாவு_வாலிபர்_சிறுவன்\n",
       "19     18    121                         18_லாரி_மோதி_கார்_பரிதாப\n",
       "20     19    104           19_ஐகோர்ட்_கோடி_குடும்பத்துக்கு_லட்சம்\n",
       "21     20    103                   20_திமுக_வெற்றி_கூட்டணி_அதிமுக\n",
       "22     21    103                            21_பஸ்_பலி_ஆம்னி_சாவு\n",
       "23     22    102               22_அதிமுக_திமுக_கூட்டணியில்_மதிமுக\n",
       "24     23    102                       23_கொலை_மனைவி_தற்கொலை_பெண்\n",
       "25     24     95                24_லிபியா_லிபியாவில்_நேட்டோ_கடாபி\n",
       "26     25     88              25_கிளிப்பிங்ஸ்_டயட்_டைமிங்_ஸ்பெஷல்\n",
       "27     26     84                26_சுப்ரீம்_கோர்ட்_தடை_நீதிமன்றம்\n",
       "28     27     82                  27_யானைகள்_யானை_அட்டகாசம்_அருகே\n",
       "29     28     82                  28_விலை_டீசல்_வில்லியம்_விற்பனை\n",
       "30     29     77       29_பாகிஸ்தான்_பின்லேடன்_அமெரிக்கா_அமெரிக்க\n",
       "31     30     77      30_விஜயகாந்த்_வடிவேலு_பாக்யராஜ்_திருமாவளவன்\n",
       "32     31     74             31_கோயிலில்_திருப்பதி_தரிசனம்_கோயில்\n",
       "33     32     68                 32_தாக்குதல்_குண்டு_பலி_ஆப்கனில்\n",
       "34     33     64                            33_பைக்_மோதி_பலி_சாவு"
      ]
     },
     "execution_count": 208,
     "metadata": {},
     "output_type": "execute_result"
    }
   ],
   "source": [
    "# Get the topics\n",
    "\n",
    "topic_model.get_topic_info()"
   ]
  },
  {
   "cell_type": "code",
   "execution_count": 209,
   "metadata": {},
   "outputs": [],
   "source": [
    "import gensim.corpora as corpora\n",
    "from gensim.models.coherencemodel import CoherenceModel\n",
    "\n",
    "# Preprocess documents\n",
    "\n",
    "cleaned_docs = topic_model._preprocess_text(docs)\n",
    "\n",
    "# Extract vectorizer and tokenizer from BERTopic\n",
    "\n",
    "vectorizer = topic_model.vectorizer_model\n",
    "tokenizer = vectorizer.build_tokenizer()\n",
    "\n",
    "# Extract features for Topic Coherence evaluation\n",
    "\n",
    "words = vectorizer.get_feature_names_out()\n",
    "tokens = [tokenizer(doc) for doc in cleaned_docs]\n",
    "dictionary = corpora.Dictionary(tokens)\n",
    "corpus = [dictionary.doc2bow(token) for token in tokens]\n",
    "topic_words = [[words for words, _ in topic_model.get_topic(topic)] \n",
    "               for topic in range(len(topic_model.get_topics())-1)]"
   ]
  },
  {
   "cell_type": "code",
   "execution_count": 210,
   "metadata": {},
   "outputs": [
    {
     "data": {
      "text/plain": [
       "-11.945937760362515"
      ]
     },
     "execution_count": 210,
     "metadata": {},
     "output_type": "execute_result"
    }
   ],
   "source": [
    "\n",
    "# Evaluate\n",
    "\n",
    "coherence_model = CoherenceModel(topics=topic_words, \n",
    "                                 texts=tokens, \n",
    "                                 corpus=corpus,\n",
    "                                 dictionary=dictionary, \n",
    "                                 coherence='u_mass')\n",
    "coherence = coherence_model.get_coherence()\n",
    "coherence"
   ]
  },
  {
   "cell_type": "code",
   "execution_count": 211,
   "metadata": {},
   "outputs": [
    {
     "data": {
      "application/vnd.plotly.v1+json": {
       "config": {
        "plotlyServerURL": "https://plot.ly"
       },
       "data": [
        {
         "marker": {
          "color": "#D55E00"
         },
         "orientation": "h",
         "type": "bar",
         "x": [
          0.039334872471557016,
          0.041339383721558313,
          0.04834617551724752,
          0.04904913117904107,
          0.0876349366104709
         ],
         "xaxis": "x",
         "y": [
          "வெற்றி  ",
          "இங்கிலாந்து  ",
          "இன்று  ",
          "மோதல்  ",
          "இந்தியா  "
         ],
         "yaxis": "y"
        },
        {
         "marker": {
          "color": "#0072B2"
         },
         "orientation": "h",
         "type": "bar",
         "x": [
          0.021493724783699906,
          0.023353360370643565,
          0.026962073385646077,
          0.030039980737746753,
          0.0453413054115685
         ],
         "xaxis": "x2",
         "y": [
          "மம்தா  ",
          "பாஜ  ",
          "வழக்கு  ",
          "பிரதமர்  ",
          "காங்கிரஸ்  "
         ],
         "yaxis": "y2"
        },
        {
         "marker": {
          "color": "#CC79A7"
         },
         "orientation": "h",
         "type": "bar",
         "x": [
          0.018432826951623855,
          0.023595036777753306,
          0.03988777834852584,
          0.04789334863283234,
          0.048386170748012616
         ],
         "xaxis": "x3",
         "y": [
          "தரும்  ",
          "தொகுதி  ",
          "பார்வை  ",
          "சம்மர்  ",
          "டூர்  "
         ],
         "yaxis": "y3"
        },
        {
         "marker": {
          "color": "#E69F00"
         },
         "orientation": "h",
         "type": "bar",
         "x": [
          0.04987913737394023,
          0.07228462363946864,
          0.07986794068156255,
          0.08363499417444492,
          0.13490135030474792
         ],
         "xaxis": "x4",
         "y": [
          "நடிகர்  ",
          "இயக்குனர்  ",
          "ஹீரோ  ",
          "ஹீரோயின்  ",
          "நடிகை  "
         ],
         "yaxis": "y4"
        },
        {
         "marker": {
          "color": "#56B4E9"
         },
         "orientation": "h",
         "type": "bar",
         "x": [
          0.041611699482396666,
          0.0442739980197343,
          0.049324564450179784,
          0.06028416204211809,
          0.1699637604361168
         ],
         "xaxis": "x5",
         "y": [
          "லட்சம்  ",
          "பிடிபட்டனர்  ",
          "மோசடி  ",
          "லஞ்சம்  ",
          "கைது  "
         ],
         "yaxis": "y5"
        },
        {
         "marker": {
          "color": "#009E73"
         },
         "orientation": "h",
         "type": "bar",
         "x": [
          0.05922194215728531,
          0.06220963825101366,
          0.07488519634031592,
          0.08659940953335159,
          0.17906103434789042
         ],
         "xaxis": "x6",
         "y": [
          "அதிகாரி  ",
          "வாக்கு  ",
          "கமிஷன்  ",
          "ஆணையம்  ",
          "தேர்தல்  "
         ],
         "yaxis": "y6"
        },
        {
         "marker": {
          "color": "#F0E442"
         },
         "orientation": "h",
         "type": "bar",
         "x": [
          0.023576275885515356,
          0.025419465733488397,
          0.02960641720105458,
          0.035066461502999545,
          0.0905652406556416
         ],
         "xaxis": "x7",
         "y": [
          "ஹர்லி  ",
          "சாம்பியன்  ",
          "சேவாக்  ",
          "இல்லை  ",
          "சச்சின்  "
         ],
         "yaxis": "y7"
        },
        {
         "marker": {
          "color": "#D55E00"
         },
         "orientation": "h",
         "type": "bar",
         "x": [
          0.043762646930883234,
          0.04988597791670209,
          0.050554320036608306,
          0.05591341278368317,
          0.06545308330861935
         ],
         "xaxis": "x8",
         "y": [
          "பஞ்சாப்  ",
          "சச்சின்  ",
          "புனே  ",
          "கொச்சி  ",
          "டோனி  "
         ],
         "yaxis": "y8"
        }
       ],
       "layout": {
        "annotations": [
         {
          "font": {
           "size": 16
          },
          "showarrow": false,
          "text": "Topic 0",
          "x": 0.0875,
          "xanchor": "center",
          "xref": "paper",
          "y": 1,
          "yanchor": "bottom",
          "yref": "paper"
         },
         {
          "font": {
           "size": 16
          },
          "showarrow": false,
          "text": "Topic 1",
          "x": 0.36250000000000004,
          "xanchor": "center",
          "xref": "paper",
          "y": 1,
          "yanchor": "bottom",
          "yref": "paper"
         },
         {
          "font": {
           "size": 16
          },
          "showarrow": false,
          "text": "Topic 2",
          "x": 0.6375000000000001,
          "xanchor": "center",
          "xref": "paper",
          "y": 1,
          "yanchor": "bottom",
          "yref": "paper"
         },
         {
          "font": {
           "size": 16
          },
          "showarrow": false,
          "text": "Topic 3",
          "x": 0.9125,
          "xanchor": "center",
          "xref": "paper",
          "y": 1,
          "yanchor": "bottom",
          "yref": "paper"
         },
         {
          "font": {
           "size": 16
          },
          "showarrow": false,
          "text": "Topic 4",
          "x": 0.0875,
          "xanchor": "center",
          "xref": "paper",
          "y": 0.4,
          "yanchor": "bottom",
          "yref": "paper"
         },
         {
          "font": {
           "size": 16
          },
          "showarrow": false,
          "text": "Topic 5",
          "x": 0.36250000000000004,
          "xanchor": "center",
          "xref": "paper",
          "y": 0.4,
          "yanchor": "bottom",
          "yref": "paper"
         },
         {
          "font": {
           "size": 16
          },
          "showarrow": false,
          "text": "Topic 6",
          "x": 0.6375000000000001,
          "xanchor": "center",
          "xref": "paper",
          "y": 0.4,
          "yanchor": "bottom",
          "yref": "paper"
         },
         {
          "font": {
           "size": 16
          },
          "showarrow": false,
          "text": "Topic 7",
          "x": 0.9125,
          "xanchor": "center",
          "xref": "paper",
          "y": 0.4,
          "yanchor": "bottom",
          "yref": "paper"
         }
        ],
        "height": 500,
        "hoverlabel": {
         "bgcolor": "white",
         "font": {
          "family": "Rockwell",
          "size": 16
         }
        },
        "showlegend": false,
        "template": {
         "data": {
          "bar": [
           {
            "error_x": {
             "color": "#2a3f5f"
            },
            "error_y": {
             "color": "#2a3f5f"
            },
            "marker": {
             "line": {
              "color": "white",
              "width": 0.5
             },
             "pattern": {
              "fillmode": "overlay",
              "size": 10,
              "solidity": 0.2
             }
            },
            "type": "bar"
           }
          ],
          "barpolar": [
           {
            "marker": {
             "line": {
              "color": "white",
              "width": 0.5
             },
             "pattern": {
              "fillmode": "overlay",
              "size": 10,
              "solidity": 0.2
             }
            },
            "type": "barpolar"
           }
          ],
          "carpet": [
           {
            "aaxis": {
             "endlinecolor": "#2a3f5f",
             "gridcolor": "#C8D4E3",
             "linecolor": "#C8D4E3",
             "minorgridcolor": "#C8D4E3",
             "startlinecolor": "#2a3f5f"
            },
            "baxis": {
             "endlinecolor": "#2a3f5f",
             "gridcolor": "#C8D4E3",
             "linecolor": "#C8D4E3",
             "minorgridcolor": "#C8D4E3",
             "startlinecolor": "#2a3f5f"
            },
            "type": "carpet"
           }
          ],
          "choropleth": [
           {
            "colorbar": {
             "outlinewidth": 0,
             "ticks": ""
            },
            "type": "choropleth"
           }
          ],
          "contour": [
           {
            "colorbar": {
             "outlinewidth": 0,
             "ticks": ""
            },
            "colorscale": [
             [
              0,
              "#0d0887"
             ],
             [
              0.1111111111111111,
              "#46039f"
             ],
             [
              0.2222222222222222,
              "#7201a8"
             ],
             [
              0.3333333333333333,
              "#9c179e"
             ],
             [
              0.4444444444444444,
              "#bd3786"
             ],
             [
              0.5555555555555556,
              "#d8576b"
             ],
             [
              0.6666666666666666,
              "#ed7953"
             ],
             [
              0.7777777777777778,
              "#fb9f3a"
             ],
             [
              0.8888888888888888,
              "#fdca26"
             ],
             [
              1,
              "#f0f921"
             ]
            ],
            "type": "contour"
           }
          ],
          "contourcarpet": [
           {
            "colorbar": {
             "outlinewidth": 0,
             "ticks": ""
            },
            "type": "contourcarpet"
           }
          ],
          "heatmap": [
           {
            "colorbar": {
             "outlinewidth": 0,
             "ticks": ""
            },
            "colorscale": [
             [
              0,
              "#0d0887"
             ],
             [
              0.1111111111111111,
              "#46039f"
             ],
             [
              0.2222222222222222,
              "#7201a8"
             ],
             [
              0.3333333333333333,
              "#9c179e"
             ],
             [
              0.4444444444444444,
              "#bd3786"
             ],
             [
              0.5555555555555556,
              "#d8576b"
             ],
             [
              0.6666666666666666,
              "#ed7953"
             ],
             [
              0.7777777777777778,
              "#fb9f3a"
             ],
             [
              0.8888888888888888,
              "#fdca26"
             ],
             [
              1,
              "#f0f921"
             ]
            ],
            "type": "heatmap"
           }
          ],
          "heatmapgl": [
           {
            "colorbar": {
             "outlinewidth": 0,
             "ticks": ""
            },
            "colorscale": [
             [
              0,
              "#0d0887"
             ],
             [
              0.1111111111111111,
              "#46039f"
             ],
             [
              0.2222222222222222,
              "#7201a8"
             ],
             [
              0.3333333333333333,
              "#9c179e"
             ],
             [
              0.4444444444444444,
              "#bd3786"
             ],
             [
              0.5555555555555556,
              "#d8576b"
             ],
             [
              0.6666666666666666,
              "#ed7953"
             ],
             [
              0.7777777777777778,
              "#fb9f3a"
             ],
             [
              0.8888888888888888,
              "#fdca26"
             ],
             [
              1,
              "#f0f921"
             ]
            ],
            "type": "heatmapgl"
           }
          ],
          "histogram": [
           {
            "marker": {
             "pattern": {
              "fillmode": "overlay",
              "size": 10,
              "solidity": 0.2
             }
            },
            "type": "histogram"
           }
          ],
          "histogram2d": [
           {
            "colorbar": {
             "outlinewidth": 0,
             "ticks": ""
            },
            "colorscale": [
             [
              0,
              "#0d0887"
             ],
             [
              0.1111111111111111,
              "#46039f"
             ],
             [
              0.2222222222222222,
              "#7201a8"
             ],
             [
              0.3333333333333333,
              "#9c179e"
             ],
             [
              0.4444444444444444,
              "#bd3786"
             ],
             [
              0.5555555555555556,
              "#d8576b"
             ],
             [
              0.6666666666666666,
              "#ed7953"
             ],
             [
              0.7777777777777778,
              "#fb9f3a"
             ],
             [
              0.8888888888888888,
              "#fdca26"
             ],
             [
              1,
              "#f0f921"
             ]
            ],
            "type": "histogram2d"
           }
          ],
          "histogram2dcontour": [
           {
            "colorbar": {
             "outlinewidth": 0,
             "ticks": ""
            },
            "colorscale": [
             [
              0,
              "#0d0887"
             ],
             [
              0.1111111111111111,
              "#46039f"
             ],
             [
              0.2222222222222222,
              "#7201a8"
             ],
             [
              0.3333333333333333,
              "#9c179e"
             ],
             [
              0.4444444444444444,
              "#bd3786"
             ],
             [
              0.5555555555555556,
              "#d8576b"
             ],
             [
              0.6666666666666666,
              "#ed7953"
             ],
             [
              0.7777777777777778,
              "#fb9f3a"
             ],
             [
              0.8888888888888888,
              "#fdca26"
             ],
             [
              1,
              "#f0f921"
             ]
            ],
            "type": "histogram2dcontour"
           }
          ],
          "mesh3d": [
           {
            "colorbar": {
             "outlinewidth": 0,
             "ticks": ""
            },
            "type": "mesh3d"
           }
          ],
          "parcoords": [
           {
            "line": {
             "colorbar": {
              "outlinewidth": 0,
              "ticks": ""
             }
            },
            "type": "parcoords"
           }
          ],
          "pie": [
           {
            "automargin": true,
            "type": "pie"
           }
          ],
          "scatter": [
           {
            "fillpattern": {
             "fillmode": "overlay",
             "size": 10,
             "solidity": 0.2
            },
            "type": "scatter"
           }
          ],
          "scatter3d": [
           {
            "line": {
             "colorbar": {
              "outlinewidth": 0,
              "ticks": ""
             }
            },
            "marker": {
             "colorbar": {
              "outlinewidth": 0,
              "ticks": ""
             }
            },
            "type": "scatter3d"
           }
          ],
          "scattercarpet": [
           {
            "marker": {
             "colorbar": {
              "outlinewidth": 0,
              "ticks": ""
             }
            },
            "type": "scattercarpet"
           }
          ],
          "scattergeo": [
           {
            "marker": {
             "colorbar": {
              "outlinewidth": 0,
              "ticks": ""
             }
            },
            "type": "scattergeo"
           }
          ],
          "scattergl": [
           {
            "marker": {
             "colorbar": {
              "outlinewidth": 0,
              "ticks": ""
             }
            },
            "type": "scattergl"
           }
          ],
          "scattermapbox": [
           {
            "marker": {
             "colorbar": {
              "outlinewidth": 0,
              "ticks": ""
             }
            },
            "type": "scattermapbox"
           }
          ],
          "scatterpolar": [
           {
            "marker": {
             "colorbar": {
              "outlinewidth": 0,
              "ticks": ""
             }
            },
            "type": "scatterpolar"
           }
          ],
          "scatterpolargl": [
           {
            "marker": {
             "colorbar": {
              "outlinewidth": 0,
              "ticks": ""
             }
            },
            "type": "scatterpolargl"
           }
          ],
          "scatterternary": [
           {
            "marker": {
             "colorbar": {
              "outlinewidth": 0,
              "ticks": ""
             }
            },
            "type": "scatterternary"
           }
          ],
          "surface": [
           {
            "colorbar": {
             "outlinewidth": 0,
             "ticks": ""
            },
            "colorscale": [
             [
              0,
              "#0d0887"
             ],
             [
              0.1111111111111111,
              "#46039f"
             ],
             [
              0.2222222222222222,
              "#7201a8"
             ],
             [
              0.3333333333333333,
              "#9c179e"
             ],
             [
              0.4444444444444444,
              "#bd3786"
             ],
             [
              0.5555555555555556,
              "#d8576b"
             ],
             [
              0.6666666666666666,
              "#ed7953"
             ],
             [
              0.7777777777777778,
              "#fb9f3a"
             ],
             [
              0.8888888888888888,
              "#fdca26"
             ],
             [
              1,
              "#f0f921"
             ]
            ],
            "type": "surface"
           }
          ],
          "table": [
           {
            "cells": {
             "fill": {
              "color": "#EBF0F8"
             },
             "line": {
              "color": "white"
             }
            },
            "header": {
             "fill": {
              "color": "#C8D4E3"
             },
             "line": {
              "color": "white"
             }
            },
            "type": "table"
           }
          ]
         },
         "layout": {
          "annotationdefaults": {
           "arrowcolor": "#2a3f5f",
           "arrowhead": 0,
           "arrowwidth": 1
          },
          "autotypenumbers": "strict",
          "coloraxis": {
           "colorbar": {
            "outlinewidth": 0,
            "ticks": ""
           }
          },
          "colorscale": {
           "diverging": [
            [
             0,
             "#8e0152"
            ],
            [
             0.1,
             "#c51b7d"
            ],
            [
             0.2,
             "#de77ae"
            ],
            [
             0.3,
             "#f1b6da"
            ],
            [
             0.4,
             "#fde0ef"
            ],
            [
             0.5,
             "#f7f7f7"
            ],
            [
             0.6,
             "#e6f5d0"
            ],
            [
             0.7,
             "#b8e186"
            ],
            [
             0.8,
             "#7fbc41"
            ],
            [
             0.9,
             "#4d9221"
            ],
            [
             1,
             "#276419"
            ]
           ],
           "sequential": [
            [
             0,
             "#0d0887"
            ],
            [
             0.1111111111111111,
             "#46039f"
            ],
            [
             0.2222222222222222,
             "#7201a8"
            ],
            [
             0.3333333333333333,
             "#9c179e"
            ],
            [
             0.4444444444444444,
             "#bd3786"
            ],
            [
             0.5555555555555556,
             "#d8576b"
            ],
            [
             0.6666666666666666,
             "#ed7953"
            ],
            [
             0.7777777777777778,
             "#fb9f3a"
            ],
            [
             0.8888888888888888,
             "#fdca26"
            ],
            [
             1,
             "#f0f921"
            ]
           ],
           "sequentialminus": [
            [
             0,
             "#0d0887"
            ],
            [
             0.1111111111111111,
             "#46039f"
            ],
            [
             0.2222222222222222,
             "#7201a8"
            ],
            [
             0.3333333333333333,
             "#9c179e"
            ],
            [
             0.4444444444444444,
             "#bd3786"
            ],
            [
             0.5555555555555556,
             "#d8576b"
            ],
            [
             0.6666666666666666,
             "#ed7953"
            ],
            [
             0.7777777777777778,
             "#fb9f3a"
            ],
            [
             0.8888888888888888,
             "#fdca26"
            ],
            [
             1,
             "#f0f921"
            ]
           ]
          },
          "colorway": [
           "#636efa",
           "#EF553B",
           "#00cc96",
           "#ab63fa",
           "#FFA15A",
           "#19d3f3",
           "#FF6692",
           "#B6E880",
           "#FF97FF",
           "#FECB52"
          ],
          "font": {
           "color": "#2a3f5f"
          },
          "geo": {
           "bgcolor": "white",
           "lakecolor": "white",
           "landcolor": "white",
           "showlakes": true,
           "showland": true,
           "subunitcolor": "#C8D4E3"
          },
          "hoverlabel": {
           "align": "left"
          },
          "hovermode": "closest",
          "mapbox": {
           "style": "light"
          },
          "paper_bgcolor": "white",
          "plot_bgcolor": "white",
          "polar": {
           "angularaxis": {
            "gridcolor": "#EBF0F8",
            "linecolor": "#EBF0F8",
            "ticks": ""
           },
           "bgcolor": "white",
           "radialaxis": {
            "gridcolor": "#EBF0F8",
            "linecolor": "#EBF0F8",
            "ticks": ""
           }
          },
          "scene": {
           "xaxis": {
            "backgroundcolor": "white",
            "gridcolor": "#DFE8F3",
            "gridwidth": 2,
            "linecolor": "#EBF0F8",
            "showbackground": true,
            "ticks": "",
            "zerolinecolor": "#EBF0F8"
           },
           "yaxis": {
            "backgroundcolor": "white",
            "gridcolor": "#DFE8F3",
            "gridwidth": 2,
            "linecolor": "#EBF0F8",
            "showbackground": true,
            "ticks": "",
            "zerolinecolor": "#EBF0F8"
           },
           "zaxis": {
            "backgroundcolor": "white",
            "gridcolor": "#DFE8F3",
            "gridwidth": 2,
            "linecolor": "#EBF0F8",
            "showbackground": true,
            "ticks": "",
            "zerolinecolor": "#EBF0F8"
           }
          },
          "shapedefaults": {
           "line": {
            "color": "#2a3f5f"
           }
          },
          "ternary": {
           "aaxis": {
            "gridcolor": "#DFE8F3",
            "linecolor": "#A2B1C6",
            "ticks": ""
           },
           "baxis": {
            "gridcolor": "#DFE8F3",
            "linecolor": "#A2B1C6",
            "ticks": ""
           },
           "bgcolor": "white",
           "caxis": {
            "gridcolor": "#DFE8F3",
            "linecolor": "#A2B1C6",
            "ticks": ""
           }
          },
          "title": {
           "x": 0.05
          },
          "xaxis": {
           "automargin": true,
           "gridcolor": "#EBF0F8",
           "linecolor": "#EBF0F8",
           "ticks": "",
           "title": {
            "standoff": 15
           },
           "zerolinecolor": "#EBF0F8",
           "zerolinewidth": 2
          },
          "yaxis": {
           "automargin": true,
           "gridcolor": "#EBF0F8",
           "linecolor": "#EBF0F8",
           "ticks": "",
           "title": {
            "standoff": 15
           },
           "zerolinecolor": "#EBF0F8",
           "zerolinewidth": 2
          }
         }
        },
        "title": {
         "font": {
          "color": "Black",
          "size": 22
         },
         "text": "Topic Word Scores",
         "x": 0.5,
         "xanchor": "center",
         "yanchor": "top"
        },
        "width": 1000,
        "xaxis": {
         "anchor": "y",
         "domain": [
          0,
          0.175
         ],
         "showgrid": true
        },
        "xaxis2": {
         "anchor": "y2",
         "domain": [
          0.275,
          0.45
         ],
         "showgrid": true
        },
        "xaxis3": {
         "anchor": "y3",
         "domain": [
          0.55,
          0.7250000000000001
         ],
         "showgrid": true
        },
        "xaxis4": {
         "anchor": "y4",
         "domain": [
          0.825,
          1
         ],
         "showgrid": true
        },
        "xaxis5": {
         "anchor": "y5",
         "domain": [
          0,
          0.175
         ],
         "showgrid": true
        },
        "xaxis6": {
         "anchor": "y6",
         "domain": [
          0.275,
          0.45
         ],
         "showgrid": true
        },
        "xaxis7": {
         "anchor": "y7",
         "domain": [
          0.55,
          0.7250000000000001
         ],
         "showgrid": true
        },
        "xaxis8": {
         "anchor": "y8",
         "domain": [
          0.825,
          1
         ],
         "showgrid": true
        },
        "yaxis": {
         "anchor": "x",
         "domain": [
          0.6000000000000001,
          1
         ],
         "showgrid": true
        },
        "yaxis2": {
         "anchor": "x2",
         "domain": [
          0.6000000000000001,
          1
         ],
         "showgrid": true
        },
        "yaxis3": {
         "anchor": "x3",
         "domain": [
          0.6000000000000001,
          1
         ],
         "showgrid": true
        },
        "yaxis4": {
         "anchor": "x4",
         "domain": [
          0.6000000000000001,
          1
         ],
         "showgrid": true
        },
        "yaxis5": {
         "anchor": "x5",
         "domain": [
          0,
          0.4
         ],
         "showgrid": true
        },
        "yaxis6": {
         "anchor": "x6",
         "domain": [
          0,
          0.4
         ],
         "showgrid": true
        },
        "yaxis7": {
         "anchor": "x7",
         "domain": [
          0,
          0.4
         ],
         "showgrid": true
        },
        "yaxis8": {
         "anchor": "x8",
         "domain": [
          0,
          0.4
         ],
         "showgrid": true
        }
       }
      }
     },
     "metadata": {},
     "output_type": "display_data"
    }
   ],
   "source": [
    "topic_model.visualize_barchart()"
   ]
  },
  {
   "cell_type": "code",
   "execution_count": 213,
   "metadata": {},
   "outputs": [
    {
     "data": {
      "text/html": [
       "<div>\n",
       "<style scoped>\n",
       "    .dataframe tbody tr th:only-of-type {\n",
       "        vertical-align: middle;\n",
       "    }\n",
       "\n",
       "    .dataframe tbody tr th {\n",
       "        vertical-align: top;\n",
       "    }\n",
       "\n",
       "    .dataframe thead th {\n",
       "        text-align: right;\n",
       "    }\n",
       "</style>\n",
       "<table border=\"1\" class=\"dataframe\">\n",
       "  <thead>\n",
       "    <tr style=\"text-align: right;\">\n",
       "      <th></th>\n",
       "      <th>Document</th>\n",
       "      <th>Topic</th>\n",
       "    </tr>\n",
       "  </thead>\n",
       "  <tbody>\n",
       "    <tr>\n",
       "      <th>9999</th>\n",
       "      <td>சிறையில் அதிகாரி கொலை சிபிஐ விசாரணை</td>\n",
       "      <td>-1</td>\n",
       "    </tr>\n",
       "    <tr>\n",
       "      <th>8340</th>\n",
       "      <td>மும்பை நிருபர் கொலை வழக்கு போலீஸ் அதிகாரியிடம்...</td>\n",
       "      <td>-1</td>\n",
       "    </tr>\n",
       "    <tr>\n",
       "      <th>8913</th>\n",
       "      <td>லக்னோ சிறையில் கைதி கொலை சிபிஐ விசாரிக்க பாஜ வ...</td>\n",
       "      <td>-1</td>\n",
       "    </tr>\n",
       "    <tr>\n",
       "      <th>3949</th>\n",
       "      <td>எம்எல்ஏ மகன் கொலை வழக்கில் சிறை கண்காணிப்பாளர்...</td>\n",
       "      <td>-1</td>\n",
       "    </tr>\n",
       "    <tr>\n",
       "      <th>5303</th>\n",
       "      <td>காவலாளி கொலையில் பேர் பிடிபட்டனர்</td>\n",
       "      <td>-1</td>\n",
       "    </tr>\n",
       "    <tr>\n",
       "      <th>2150</th>\n",
       "      <td>மாணவன் கொலை வழக்கில் பேர் சிறையில் அடைப்பு</td>\n",
       "      <td>-1</td>\n",
       "    </tr>\n",
       "  </tbody>\n",
       "</table>\n",
       "</div>"
      ],
      "text/plain": [
       "                                               Document  Topic\n",
       "9999                சிறையில் அதிகாரி கொலை சிபிஐ விசாரணை     -1\n",
       "8340  மும்பை நிருபர் கொலை வழக்கு போலீஸ் அதிகாரியிடம்...     -1\n",
       "8913  லக்னோ சிறையில் கைதி கொலை சிபிஐ விசாரிக்க பாஜ வ...     -1\n",
       "3949  எம்எல்ஏ மகன் கொலை வழக்கில் சிறை கண்காணிப்பாளர்...     -1\n",
       "5303                  காவலாளி கொலையில் பேர் பிடிபட்டனர்     -1\n",
       "2150         மாணவன் கொலை வழக்கில் பேர் சிறையில் அடைப்பு     -1"
      ]
     },
     "execution_count": 213,
     "metadata": {},
     "output_type": "execute_result"
    }
   ],
   "source": [
    "df = pd.DataFrame({\"Document\": docs, \"Topic\": topics})\n",
    "\n",
    "sample_article=df.iloc[9999]\n",
    "\n",
    "# find all documents with same topic as sample article and get their embeddings from embeds_np\n",
    "\n",
    "same_topic_docs = df[df['Topic'] == sample_article['Topic']]\n",
    "\n",
    "same_topic_docs_embeddings = embeds_np[same_topic_docs.index]\n",
    "\n",
    "\n",
    "\n",
    "from sklearn.metrics.pairwise import cosine_similarity\n",
    "\n",
    "sample_article_embedding = embeds_np[sample_article.name].reshape(1, -1)\n",
    "\n",
    "cosine_similarities = cosine_similarity(sample_article_embedding, same_topic_docs_embeddings).flatten()\n",
    "\n",
    "\n",
    "# find top 5 similar documents excluding the sample article\n",
    "\n",
    "similar_docs = same_topic_docs.iloc[cosine_similarities.argsort()[:-7:-1]]\n",
    "\n",
    "similar_docs\n",
    "\n",
    "\n",
    "\n",
    "\n",
    "\n",
    "\n"
   ]
  },
  {
   "cell_type": "code",
   "execution_count": null,
   "metadata": {},
   "outputs": [],
   "source": []
  },
  {
   "cell_type": "code",
   "execution_count": null,
   "metadata": {},
   "outputs": [],
   "source": []
  },
  {
   "cell_type": "code",
   "execution_count": null,
   "metadata": {},
   "outputs": [],
   "source": []
  }
 ],
 "metadata": {
  "kernelspec": {
   "display_name": "Python 3 (ipykernel)",
   "language": "python",
   "name": "python3"
  },
  "language_info": {
   "codemirror_mode": {
    "name": "ipython",
    "version": 3
   },
   "file_extension": ".py",
   "mimetype": "text/x-python",
   "name": "python",
   "nbconvert_exporter": "python",
   "pygments_lexer": "ipython3",
   "version": "3.9.16"
  }
 },
 "nbformat": 4,
 "nbformat_minor": 2
}
