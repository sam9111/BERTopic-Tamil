{
 "cells": [
  {
   "cell_type": "code",
   "execution_count": 2,
   "metadata": {},
   "outputs": [],
   "source": [
    "# %pip install bertopic\n",
    "# %pip install indicnlp-library\n",
    "# %pip install transformers"
   ]
  },
  {
   "cell_type": "code",
   "execution_count": 3,
   "metadata": {},
   "outputs": [
    {
     "data": {
      "text/html": [
       "<div>\n",
       "<style scoped>\n",
       "    .dataframe tbody tr th:only-of-type {\n",
       "        vertical-align: middle;\n",
       "    }\n",
       "\n",
       "    .dataframe tbody tr th {\n",
       "        vertical-align: top;\n",
       "    }\n",
       "\n",
       "    .dataframe thead th {\n",
       "        text-align: right;\n",
       "    }\n",
       "</style>\n",
       "<table border=\"1\" class=\"dataframe\">\n",
       "  <thead>\n",
       "    <tr style=\"text-align: right;\">\n",
       "      <th></th>\n",
       "      <th>news_id</th>\n",
       "      <th>news_date</th>\n",
       "      <th>news_category</th>\n",
       "      <th>news_title</th>\n",
       "      <th>news_article</th>\n",
       "    </tr>\n",
       "  </thead>\n",
       "  <tbody>\n",
       "    <tr>\n",
       "      <th>0</th>\n",
       "      <td>6</td>\n",
       "      <td>1/6/2011 2:45:49 PM</td>\n",
       "      <td>மர்மம்</td>\n",
       "      <td>தூக்கில் தொங்கும் சேவல்கள் திருடர்களை காவு வாங...</td>\n",
       "      <td>நாலு ஆள் உயரம், முறுக்கு மீசை, கையில் வீச்சரிவ...</td>\n",
       "    </tr>\n",
       "    <tr>\n",
       "      <th>1</th>\n",
       "      <td>9</td>\n",
       "      <td>1/6/2011 2:56:51 PM</td>\n",
       "      <td>மர்மம்</td>\n",
       "      <td>பவுர்ணமி ஜாமத்தில் மாயமான கர்ப்பிணி</td>\n",
       "      <td>அமானுஷ்யமான சம்பவங்கள் நம்மை சுற்றி ஆங்காங்கே ...</td>\n",
       "    </tr>\n",
       "    <tr>\n",
       "      <th>2</th>\n",
       "      <td>10</td>\n",
       "      <td>1/6/2011 3:02:00 PM</td>\n",
       "      <td>இந்தியா</td>\n",
       "      <td>காமன்வெல்த் ஊழல் சுரேஷ் கல்மாடியிடம் கேள்விகள்</td>\n",
       "      <td>காமன்வெல்த் போட்டி ஏற்பாட்டில் நடைபெற்ற முறைகே...</td>\n",
       "    </tr>\n",
       "    <tr>\n",
       "      <th>3</th>\n",
       "      <td>11</td>\n",
       "      <td>1/6/2011 3:08:15 PM</td>\n",
       "      <td>மர்மம்</td>\n",
       "      <td>மச்சுபிச்சு மலை ரகசியம்</td>\n",
       "      <td>தென்அமெரிக்க நாடான பெருவில் காடுகள் மிகவும் பய...</td>\n",
       "    </tr>\n",
       "    <tr>\n",
       "      <th>4</th>\n",
       "      <td>12</td>\n",
       "      <td>1/6/2011 3:09:20 PM</td>\n",
       "      <td>மர்மம்</td>\n",
       "      <td>ரத்த பலி வாங்கும் விபரீத ஆவி</td>\n",
       "      <td>கடந்த 18ம் தேதி சாயங்காலம்... அடைமழையை கிழித்த...</td>\n",
       "    </tr>\n",
       "    <tr>\n",
       "      <th>...</th>\n",
       "      <td>...</td>\n",
       "      <td>...</td>\n",
       "      <td>...</td>\n",
       "      <td>...</td>\n",
       "      <td>...</td>\n",
       "    </tr>\n",
       "    <tr>\n",
       "      <th>9995</th>\n",
       "      <td>10152</td>\n",
       "      <td>7/14/2011 1:09:23 PM</td>\n",
       "      <td>விளையாட்டு</td>\n",
       "      <td>பயிற்சி ஆட்டத்தில் இந்தியா நாளை மோதல்</td>\n",
       "      <td>4 டெஸ்ட் போட்டி, ஒரு 20-20, 5 ஒன்டேயில் பங்கேற...</td>\n",
       "    </tr>\n",
       "    <tr>\n",
       "      <th>9996</th>\n",
       "      <td>10153</td>\n",
       "      <td>7/14/2011 1:54:26 PM</td>\n",
       "      <td>விளையாட்டு</td>\n",
       "      <td>சச்சின் புதிய அவதாரம் நாசர் உசேன்</td>\n",
       "      <td>இங்கிலாந்து கிரிக்கெட் அணியின் மாஜி கேப்டன் நா...</td>\n",
       "    </tr>\n",
       "    <tr>\n",
       "      <th>9997</th>\n",
       "      <td>10154</td>\n",
       "      <td>7/14/2011 2:02:13 PM</td>\n",
       "      <td>ஸ்டேட் எக்ஸ்பிரஸ்</td>\n",
       "      <td>லோக்பாலில் பிரதமர் ராகுல்காந்தி எதிர்ப்பு</td>\n",
       "      <td>புவனேஷ்வர்: ஊழல் அமைச்சர்கள், அதிகாரிகளை கடுமை...</td>\n",
       "    </tr>\n",
       "    <tr>\n",
       "      <th>9998</th>\n",
       "      <td>10155</td>\n",
       "      <td>7/14/2011 2:10:53 PM</td>\n",
       "      <td>ஸ்டேட் எக்ஸ்பிரஸ்</td>\n",
       "      <td>நக்சல்கள் தப்பினர் போலீசார் சஸ்பெண்ட்</td>\n",
       "      <td>ராய்ப்பூர்: சட்டீஸ்கர் மாநிலம் நாராயண்பூர் மாவ...</td>\n",
       "    </tr>\n",
       "    <tr>\n",
       "      <th>9999</th>\n",
       "      <td>10156</td>\n",
       "      <td>7/14/2011 2:11:26 PM</td>\n",
       "      <td>ஸ்டேட் எக்ஸ்பிரஸ்</td>\n",
       "      <td>சிறையில் அதிகாரி கொலை சிபிஐ விசாரணை</td>\n",
       "      <td>லக்னோ: உத்தரபிரதேச மாநில சுகாதாரத்துறையில் தலை...</td>\n",
       "    </tr>\n",
       "  </tbody>\n",
       "</table>\n",
       "<p>10000 rows × 5 columns</p>\n",
       "</div>"
      ],
      "text/plain": [
       "      news_id             news_date      news_category  \\\n",
       "0           6   1/6/2011 2:45:49 PM             மர்மம்   \n",
       "1           9   1/6/2011 2:56:51 PM             மர்மம்   \n",
       "2          10   1/6/2011 3:02:00 PM            இந்தியா   \n",
       "3          11   1/6/2011 3:08:15 PM             மர்மம்   \n",
       "4          12   1/6/2011 3:09:20 PM             மர்மம்   \n",
       "...       ...                   ...                ...   \n",
       "9995    10152  7/14/2011 1:09:23 PM         விளையாட்டு   \n",
       "9996    10153  7/14/2011 1:54:26 PM         விளையாட்டு   \n",
       "9997    10154  7/14/2011 2:02:13 PM  ஸ்டேட் எக்ஸ்பிரஸ்   \n",
       "9998    10155  7/14/2011 2:10:53 PM  ஸ்டேட் எக்ஸ்பிரஸ்   \n",
       "9999    10156  7/14/2011 2:11:26 PM  ஸ்டேட் எக்ஸ்பிரஸ்   \n",
       "\n",
       "                                             news_title  \\\n",
       "0     தூக்கில் தொங்கும் சேவல்கள் திருடர்களை காவு வாங...   \n",
       "1                   பவுர்ணமி ஜாமத்தில் மாயமான கர்ப்பிணி   \n",
       "2        காமன்வெல்த் ஊழல் சுரேஷ் கல்மாடியிடம் கேள்விகள்   \n",
       "3                               மச்சுபிச்சு மலை ரகசியம்   \n",
       "4                          ரத்த பலி வாங்கும் விபரீத ஆவி   \n",
       "...                                                 ...   \n",
       "9995              பயிற்சி ஆட்டத்தில் இந்தியா நாளை மோதல்   \n",
       "9996                  சச்சின் புதிய அவதாரம் நாசர் உசேன்   \n",
       "9997          லோக்பாலில் பிரதமர் ராகுல்காந்தி எதிர்ப்பு   \n",
       "9998              நக்சல்கள் தப்பினர் போலீசார் சஸ்பெண்ட்   \n",
       "9999                சிறையில் அதிகாரி கொலை சிபிஐ விசாரணை   \n",
       "\n",
       "                                           news_article  \n",
       "0     நாலு ஆள் உயரம், முறுக்கு மீசை, கையில் வீச்சரிவ...  \n",
       "1     அமானுஷ்யமான சம்பவங்கள் நம்மை சுற்றி ஆங்காங்கே ...  \n",
       "2     காமன்வெல்த் போட்டி ஏற்பாட்டில் நடைபெற்ற முறைகே...  \n",
       "3     தென்அமெரிக்க நாடான பெருவில் காடுகள் மிகவும் பய...  \n",
       "4     கடந்த 18ம் தேதி சாயங்காலம்... அடைமழையை கிழித்த...  \n",
       "...                                                 ...  \n",
       "9995  4 டெஸ்ட் போட்டி, ஒரு 20-20, 5 ஒன்டேயில் பங்கேற...  \n",
       "9996  இங்கிலாந்து கிரிக்கெட் அணியின் மாஜி கேப்டன் நா...  \n",
       "9997  புவனேஷ்வர்: ஊழல் அமைச்சர்கள், அதிகாரிகளை கடுமை...  \n",
       "9998  ராய்ப்பூர்: சட்டீஸ்கர் மாநிலம் நாராயண்பூர் மாவ...  \n",
       "9999  லக்னோ: உத்தரபிரதேச மாநில சுகாதாரத்துறையில் தலை...  \n",
       "\n",
       "[10000 rows x 5 columns]"
      ]
     },
     "execution_count": 3,
     "metadata": {},
     "output_type": "execute_result"
    }
   ],
   "source": [
    "# get processed data\n",
    "\n",
    "import os\n",
    "import pandas as pd\n",
    "\n",
    "file_path = \"../data/\"\n",
    "\n",
    "data = pd.read_csv(file_path+\"train.csv\")\n",
    "\n",
    "data"
   ]
  },
  {
   "cell_type": "code",
   "execution_count": 4,
   "metadata": {},
   "outputs": [],
   "source": [
    "# Convert to list\n",
    "df=data[\"news_title\"]\n",
    "\n",
    "docs = [str(i) for i in df.values]"
   ]
  },
  {
   "cell_type": "code",
   "execution_count": 5,
   "metadata": {},
   "outputs": [
    {
     "name": "stderr",
     "output_type": "stream",
     "text": [
      "/Users/samyuktha/opt/anaconda3/envs/ml/lib/python3.9/site-packages/tqdm/auto.py:21: TqdmWarning: IProgress not found. Please update jupyter and ipywidgets. See https://ipywidgets.readthedocs.io/en/stable/user_install.html\n",
      "  from .autonotebook import tqdm as notebook_tqdm\n"
     ]
    }
   ],
   "source": [
    "\n",
    "import torch\n",
    "from transformers import BertModel, BertTokenizerFast\n",
    "\n",
    "tokenizer = BertTokenizerFast.from_pretrained(\"setu4993/LaBSE\")\n",
    "model = BertModel.from_pretrained(\"setu4993/LaBSE\")\n",
    "\n",
    "# Set model to evaluation mode\n",
    "model.eval()\n",
    "\n",
    "\n",
    "\"\"\"\n",
    "Encode a batch of documents using LaBSE model and return their embeddings.\n",
    "Args:\n",
    "    docs: List of strings representing the documents to be encoded.\n",
    "    batch_size: Size of the batch to be used during encoding.\n",
    "Returns:\n",
    "    embeddings: Tensor of shape (n_docs, embedding_size) representing the document embeddings.\n",
    "\"\"\"\n",
    "# Encode the documents in batches\n",
    "n_docs = len(docs)\n",
    "batch_size = 8\n",
    "embeds = torch.zeros((n_docs, model.config.hidden_size))\n",
    "for i in range(0, n_docs, batch_size):\n",
    "    batch = docs[i:i+batch_size]\n",
    "    inputs = tokenizer(batch, return_tensors=\"pt\", padding=True)\n",
    "    with torch.no_grad():\n",
    "        outputs = model(**inputs)\n",
    "    batch_embeddings = outputs.pooler_output\n",
    "    embeds[i:i+batch_size] = batch_embeddings\n"
   ]
  },
  {
   "cell_type": "code",
   "execution_count": 6,
   "metadata": {},
   "outputs": [
    {
     "data": {
      "text/plain": [
       "tensor([[-0.0542,  0.0662,  0.2013,  ..., -0.0550,  0.4897, -0.1781],\n",
       "        [-0.0217,  0.1333,  0.2769,  ..., -0.5482,  0.2192, -0.3742],\n",
       "        [ 0.1480, -0.2869, -0.3375,  ...,  0.2197,  0.1875,  0.2111],\n",
       "        ...,\n",
       "        [-0.4120,  0.0943,  0.1605,  ...,  0.0986,  0.2840, -0.4498],\n",
       "        [-0.3694, -0.0153,  0.1946,  ...,  0.1024,  0.4258, -0.4821],\n",
       "        [-0.1716, -0.0368, -0.3966,  ...,  0.2638,  0.5344, -0.0260]])"
      ]
     },
     "execution_count": 6,
     "metadata": {},
     "output_type": "execute_result"
    }
   ],
   "source": [
    "#save embeddings\n",
    "\n",
    "# import pickle\n",
    "\n",
    "# with open(file_path+\"embeddings.pkl\", \"wb\") as f:\n",
    "#     pickle.dump(embeds, f)\n",
    "\n",
    "#load embeddings\n",
    "\n",
    "import pickle\n",
    "\n",
    "with open(file_path+\"embeddings.pkl\", \"rb\") as f:\n",
    "\n",
    "    embeds = pickle.load(f)\n",
    "\n",
    "embeds"
   ]
  },
  {
   "cell_type": "code",
   "execution_count": 7,
   "metadata": {},
   "outputs": [],
   "source": [
    "# Fine tune UMAP - DIMENSIONALITY REDUCTION STEP\n",
    "\n",
    "from umap import UMAP\n",
    "\n",
    "\n",
    "umap_model = UMAP(n_neighbors=3, n_components=3, min_dist=0.05)\n",
    "\n"
   ]
  },
  {
   "cell_type": "code",
   "execution_count": 8,
   "metadata": {},
   "outputs": [],
   "source": [
    "# Fine tune HDBSCAN - CLUSTERING STEP\n",
    "\n",
    "from hdbscan import HDBSCAN\n",
    "\n",
    "hdbscan_model = HDBSCAN(min_cluster_size=60, min_samples=30,\n",
    "                        prediction_data=True, gen_min_span_tree=True)"
   ]
  },
  {
   "cell_type": "code",
   "execution_count": 9,
   "metadata": {},
   "outputs": [],
   "source": [
    "# Tokenize docs trivially (split on spaces)\n",
    "\n",
    "from indicnlp.tokenize import sentence_tokenize, indic_tokenize\n",
    "\n",
    "def tokenize_ta(text,return_tensors=\"pt\",*args,**kwargs):\n",
    "    return indic_tokenize.trivial_tokenize(text)"
   ]
  },
  {
   "cell_type": "code",
   "execution_count": 10,
   "metadata": {},
   "outputs": [],
   "source": [
    "# Common list of stopwords\n",
    "\n",
    "stopwords=['அங்கு',\n",
    " 'அங்கே',\n",
    " 'அடுத்த',\n",
    " 'அதனால்',\n",
    " 'அதன்',\n",
    " 'அதற்கு',\n",
    " 'அதிக',\n",
    " 'அதில்',\n",
    " 'அது',\n",
    " 'அதே',\n",
    " 'அதை',\n",
    " 'அந்த',\n",
    " 'அந்தக்',\n",
    " 'அந்தப்',\n",
    " 'அன்று',\n",
    " 'அல்லது',\n",
    " 'அவன்',\n",
    " 'அவரது',\n",
    " 'அவர்',\n",
    " 'அவர்கள்',\n",
    " 'அவள்',\n",
    " 'அவை',\n",
    " 'ஆகிய',\n",
    " 'ஆகியோர்',\n",
    " 'ஆகும்',\n",
    " 'இங்கு',\n",
    " 'இங்கே',\n",
    " 'இடத்தில்',\n",
    " 'இடம்',\n",
    " 'இதனால்',\n",
    " 'இதனை',\n",
    " 'இதன்',\n",
    " 'இதற்கு',\n",
    " 'இதில்',\n",
    " 'இது',\n",
    " 'இதை',\n",
    " 'இந்த',\n",
    " 'இந்தக்',\n",
    " 'இந்தத்',\n",
    " 'இந்தப்',\n",
    " 'இன்னும்',\n",
    " 'இப்போது',\n",
    " 'இரு',\n",
    " 'இருக்கும்',\n",
    " 'இருந்த',\n",
    " 'இருந்தது',\n",
    " 'இருந்து',\n",
    " 'இவர்',\n",
    " 'இவை',\n",
    " 'உன்',\n",
    " 'உள்ள',\n",
    " 'உள்ளது',\n",
    " 'உள்ளன',\n",
    " 'எந்த',\n",
    " 'என',\n",
    " 'எனக்',\n",
    " 'எனக்கு',\n",
    " 'எனப்படும்',\n",
    " 'எனவும்',\n",
    " 'எனவே',\n",
    " 'எனினும்',\n",
    " 'எனும்',\n",
    " 'என்',\n",
    " 'என்ன',\n",
    " 'என்னும்',\n",
    " 'என்பது',\n",
    " 'என்பதை',\n",
    " 'என்ற',\n",
    " 'என்று',\n",
    " 'என்றும்',\n",
    " 'எல்லாம்',\n",
    " 'ஏன்',\n",
    " 'ஒரு',\n",
    " 'ஒரே',\n",
    " 'ஓர்',\n",
    " 'கொண்ட',\n",
    " 'கொண்டு',\n",
    " 'கொள்ள',\n",
    " 'சற்று',\n",
    " 'சிறு',\n",
    " 'சில',\n",
    " 'சேர்ந்த',\n",
    " 'தனது',\n",
    " 'தன்',\n",
    " 'தவிர',\n",
    " 'தான்',\n",
    " 'நான்',\n",
    " 'நாம்',\n",
    " 'நீ',\n",
    " 'பற்றி',\n",
    " 'பற்றிய',\n",
    " 'பல',\n",
    " 'பலரும்',\n",
    " 'பல்வேறு',\n",
    " 'பின்',\n",
    " 'பின்னர்',\n",
    " 'பிற',\n",
    " 'பிறகு',\n",
    " 'பெரும்',\n",
    " 'பேர்',\n",
    " 'போது',\n",
    " 'போன்ற',\n",
    " 'போல',\n",
    " 'போல்',\n",
    " 'மட்டுமே',\n",
    " 'மட்டும்',\n",
    " 'மற்ற',\n",
    " 'மற்றும்',\n",
    " 'மிக',\n",
    " 'மிகவும்',\n",
    " 'மீது',\n",
    " 'முதல்',\n",
    " 'முறை',\n",
    " 'மேலும்',\n",
    " 'மேல்',\n",
    " 'யார்',\n",
    " 'வந்த',\n",
    " 'வந்து',\n",
    " 'வரும்',\n",
    " 'வரை',\n",
    " 'வரையில்',\n",
    " 'விட',\n",
    " 'விட்டு',\n",
    " 'வேண்டும்',\n",
    " 'வேறு']\n",
    "\n",
    "from sklearn.feature_extraction.text import CountVectorizer\n",
    "\n",
    "# Create a vectorizer object to generate term document counts for topic representation - TOKENIZATION STEP\n",
    "\n",
    "vectorizer_model = CountVectorizer(\n",
    "    stop_words=stopwords,analyzer='word',\n",
    "    tokenizer=tokenize_ta\n",
    ")"
   ]
  },
  {
   "cell_type": "code",
   "execution_count": 11,
   "metadata": {},
   "outputs": [],
   "source": [
    "import pandas as pd\n",
    "from scipy.sparse import csr_matrix\n",
    "from typing import List, Mapping, Tuple, Union\n",
    "import stanza\n",
    "\n",
    "class TamilPOS():\n",
    "    \"\"\"\n",
    "    Extract Topic Keywords based on their Part-of-Speech using stanza library for Tamil.\n",
    "    \"\"\"\n",
    "    def __init__(self,\n",
    "                 top_n_words: int = 10,\n",
    "                 pos_patterns: List[str] = None):\n",
    "        self.top_n_words = top_n_words\n",
    "\n",
    "        if pos_patterns is None:\n",
    "            self.pos_patterns = [\n",
    "                'NOUN',\n",
    "                'PROPN',\n",
    "                'ADJ',\n",
    "            ]\n",
    "        else:\n",
    "            self.pos_patterns = pos_patterns\n",
    "\n",
    "        # load stanza pipeline for Tamil\n",
    "\n",
    "        self.nlp = stanza.Pipeline(lang='ta', processors='tokenize,pos')\n",
    "\n",
    "    def extract_topics(self,\n",
    "                       topic_model,\n",
    "                       documents: pd.DataFrame,\n",
    "                       c_tf_idf: csr_matrix,\n",
    "                       topics: Mapping[str, List[Tuple[str, float]]]\n",
    "                       ) -> Mapping[str, List[Tuple[str, float]]]:\n",
    "        topic_to_keywords = {}\n",
    "        for topic_id, topic_words in topics.items():\n",
    "\n",
    "            # filter candidate documents that contain at least one keyword from the topic\n",
    "\n",
    "            mask = documents['text'].str.contains('|'.join([word[0] for word in topic_words]), regex=True)\n",
    "            candidate_docs = documents[mask]\n",
    "\n",
    "            # extract candidate keywords from candidate_docs based on POS patterns\n",
    "\n",
    "            candidate_keywords = []\n",
    "            for doc in candidate_docs['text']:\n",
    "                doc_keywords = []\n",
    "\n",
    "                # get POS tags for each word in the document\n",
    "\n",
    "                doc_words = self.nlp(doc).sentences[0].words\n",
    "                for word in doc_words:\n",
    "                    if word.upos in self.pos_patterns:\n",
    "                        doc_keywords.append(word.text)\n",
    "                candidate_keywords.extend(doc_keywords)\n",
    "\n",
    "            # count the frequency of each keyword and keep the top n\n",
    "\n",
    "            candidate_keyword_counts = pd.Series(candidate_keywords).value_counts().head(self.top_n_words)\n",
    "\n",
    "            # normalize keyword counts\n",
    "\n",
    "            candidate_keyword_counts = candidate_keyword_counts / candidate_docs.shape[0]\n",
    "\n",
    "            # assign c-TF-IDF scores to keywords\n",
    "\n",
    "            keyword_scores = [(word, topic_model.get_topic(topic_id)[word]) for word in candidate_keyword_counts.index]\n",
    "\n",
    "            # sort keywords by their respective c-TF-IDF scores\n",
    "\n",
    "            sorted_keyword_scores = sorted(keyword_scores, key=lambda x: x[1], reverse=True)\n",
    "\n",
    "            # add top n keywords to topic_to_keywords dict\n",
    "            \n",
    "            topic_to_keywords[topic_id] = sorted_keyword_scores[:self.top_n_words]\n",
    "        return topic_to_keywords\n"
   ]
  },
  {
   "cell_type": "code",
   "execution_count": 12,
   "metadata": {},
   "outputs": [
    {
     "name": "stderr",
     "output_type": "stream",
     "text": [
      "2023-04-19 15:59:07 INFO: Checking for updates to resources.json in case models have been updated.  Note: this behavior can be turned off with download_method=None or download_method=DownloadMethod.REUSE_RESOURCES\n"
     ]
    },
    {
     "name": "stdout",
     "output_type": "stream",
     "text": [
      "huggingface/tokenizers: The current process just got forked, after parallelism has already been used. Disabling parallelism to avoid deadlocks...\n",
      "To disable this warning, you can either:\n",
      "\t- Avoid using `tokenizers` before the fork if possible\n",
      "\t- Explicitly set the environment variable TOKENIZERS_PARALLELISM=(true | false)\n"
     ]
    },
    {
     "name": "stderr",
     "output_type": "stream",
     "text": [
      "Downloading https://raw.githubusercontent.com/stanfordnlp/stanza-resources/main/resources_1.5.0.json: 200kB [00:00, 51.9MB/s]                    \n",
      "2023-04-19 15:59:08 WARNING: Language ta package default expects mwt, which has been added\n",
      "2023-04-19 15:59:09 INFO: Loading these models for language: ta (Tamil):\n",
      "=======================\n",
      "| Processor | Package |\n",
      "-----------------------\n",
      "| tokenize  | ttb     |\n",
      "| mwt       | ttb     |\n",
      "| pos       | ttb     |\n",
      "=======================\n",
      "\n",
      "2023-04-19 15:59:09 INFO: Using device: cpu\n",
      "2023-04-19 15:59:09 INFO: Loading: tokenize\n",
      "2023-04-19 15:59:09 INFO: Loading: mwt\n",
      "2023-04-19 15:59:09 INFO: Loading: pos\n",
      "2023-04-19 15:59:09 INFO: Done loading processors!\n"
     ]
    }
   ],
   "source": [
    "representation_model = TamilPOS()"
   ]
  },
  {
   "cell_type": "code",
   "execution_count": 13,
   "metadata": {},
   "outputs": [],
   "source": [
    "\n",
    "# Create a BERTopic model\n",
    "\n",
    "from bertopic import BERTopic\n",
    "\n",
    "topic_model = BERTopic(\n",
    "    verbose=True,\n",
    "    calculate_probabilities=True,\n",
    "    embedding_model=model,\n",
    "    vectorizer_model=vectorizer_model,\n",
    "    umap_model=umap_model,\n",
    "    hdbscan_model=hdbscan_model,\n",
    "    representation_model=representation_model,\n",
    "    \n",
    ")"
   ]
  },
  {
   "cell_type": "code",
   "execution_count": 14,
   "metadata": {},
   "outputs": [
    {
     "name": "stderr",
     "output_type": "stream",
     "text": [
      "OMP: Info #276: omp_set_nested routine deprecated, please use omp_set_max_active_levels instead.\n",
      "2023-04-19 15:59:27,336 - BERTopic - Reduced dimensionality\n",
      "2023-04-19 15:59:27,970 - BERTopic - Clustered reduced embeddings\n"
     ]
    }
   ],
   "source": [
    "# Fit the model on the documents\n",
    "\n",
    "embeds_np = embeds.detach().numpy()\n",
    "topics,probs = topic_model.fit_transform(docs,embeds_np)"
   ]
  },
  {
   "cell_type": "code",
   "execution_count": 15,
   "metadata": {},
   "outputs": [
    {
     "data": {
      "text/html": [
       "<div>\n",
       "<style scoped>\n",
       "    .dataframe tbody tr th:only-of-type {\n",
       "        vertical-align: middle;\n",
       "    }\n",
       "\n",
       "    .dataframe tbody tr th {\n",
       "        vertical-align: top;\n",
       "    }\n",
       "\n",
       "    .dataframe thead th {\n",
       "        text-align: right;\n",
       "    }\n",
       "</style>\n",
       "<table border=\"1\" class=\"dataframe\">\n",
       "  <thead>\n",
       "    <tr style=\"text-align: right;\">\n",
       "      <th></th>\n",
       "      <th>Topic</th>\n",
       "      <th>Count</th>\n",
       "      <th>Name</th>\n",
       "    </tr>\n",
       "  </thead>\n",
       "  <tbody>\n",
       "    <tr>\n",
       "      <th>0</th>\n",
       "      <td>-1</td>\n",
       "      <td>4353</td>\n",
       "      <td>-1_பலி_கொலை_இன்று_அரசு</td>\n",
       "    </tr>\n",
       "    <tr>\n",
       "      <th>1</th>\n",
       "      <td>0</td>\n",
       "      <td>882</td>\n",
       "      <td>0_கைது_கொலை_பலி_சாவு</td>\n",
       "    </tr>\n",
       "    <tr>\n",
       "      <th>2</th>\n",
       "      <td>1</td>\n",
       "      <td>817</td>\n",
       "      <td>1_சச்சின்_தீ_ஸ்பெக்ட்ரம்_சிபிஐ</td>\n",
       "    </tr>\n",
       "    <tr>\n",
       "      <th>3</th>\n",
       "      <td>2</td>\n",
       "      <td>460</td>\n",
       "      <td>2_இந்தியா_வெற்றி_மோதல்_இந்திய</td>\n",
       "    </tr>\n",
       "    <tr>\n",
       "      <th>4</th>\n",
       "      <td>3</td>\n",
       "      <td>338</td>\n",
       "      <td>3_நடிகை_ஹீரோயின்_இயக்குனர்_ஹீரோ</td>\n",
       "    </tr>\n",
       "    <tr>\n",
       "      <th>5</th>\n",
       "      <td>4</td>\n",
       "      <td>284</td>\n",
       "      <td>4_தேர்தல்_ஆணையம்_வாக்கு_கமிஷன்</td>\n",
       "    </tr>\n",
       "    <tr>\n",
       "      <th>6</th>\n",
       "      <td>5</td>\n",
       "      <td>207</td>\n",
       "      <td>5_ஜெயலலிதா_விஜயகாந்த்_முதல்வர்_வடிவேலு</td>\n",
       "    </tr>\n",
       "    <tr>\n",
       "      <th>7</th>\n",
       "      <td>6</td>\n",
       "      <td>190</td>\n",
       "      <td>6_காங்கிரஸ்_மாஜி_முகர்ஜி_பிரணாப்</td>\n",
       "    </tr>\n",
       "    <tr>\n",
       "      <th>8</th>\n",
       "      <td>7</td>\n",
       "      <td>172</td>\n",
       "      <td>7_லாரி_பஸ்_மோதி_பலி</td>\n",
       "    </tr>\n",
       "    <tr>\n",
       "      <th>9</th>\n",
       "      <td>8</td>\n",
       "      <td>161</td>\n",
       "      <td>8_கைது_லஞ்சம்_மாணவர்கள்_மோசடி</td>\n",
       "    </tr>\n",
       "    <tr>\n",
       "      <th>10</th>\n",
       "      <td>9</td>\n",
       "      <td>155</td>\n",
       "      <td>9_பல்கலையில்_பொறியியல்_விஐடி_பல்கலைக்கழகத்தில்</td>\n",
       "    </tr>\n",
       "    <tr>\n",
       "      <th>11</th>\n",
       "      <td>10</td>\n",
       "      <td>136</td>\n",
       "      <td>10_அதிமுக_திமுக_அதிமுகவினர்_கடிதம்</td>\n",
       "    </tr>\n",
       "    <tr>\n",
       "      <th>12</th>\n",
       "      <td>11</td>\n",
       "      <td>135</td>\n",
       "      <td>11_கருணாநிதி_முதல்வர்_திருவா்_திமுக</td>\n",
       "    </tr>\n",
       "    <tr>\n",
       "      <th>13</th>\n",
       "      <td>12</td>\n",
       "      <td>125</td>\n",
       "      <td>12_ஐகோர்ட்_எம்பிபிஎஸ்_உத்தரவு_ஐஏஎஸ்</td>\n",
       "    </tr>\n",
       "    <tr>\n",
       "      <th>14</th>\n",
       "      <td>13</td>\n",
       "      <td>119</td>\n",
       "      <td>13_டூர்_சம்மர்_கிரகணம்_தரும்</td>\n",
       "    </tr>\n",
       "    <tr>\n",
       "      <th>15</th>\n",
       "      <td>14</td>\n",
       "      <td>119</td>\n",
       "      <td>14_கோயிலில்_கோயில்_பக்தர்கள்_திருவிழா</td>\n",
       "    </tr>\n",
       "    <tr>\n",
       "      <th>16</th>\n",
       "      <td>15</td>\n",
       "      <td>117</td>\n",
       "      <td>15_டோனி_மோதல்_இன்று_அன்கோ</td>\n",
       "    </tr>\n",
       "    <tr>\n",
       "      <th>17</th>\n",
       "      <td>16</td>\n",
       "      <td>116</td>\n",
       "      <td>16_சமச்சீர்_கல்வி_தனியார்_பள்ளிகள்</td>\n",
       "    </tr>\n",
       "    <tr>\n",
       "      <th>18</th>\n",
       "      <td>17</td>\n",
       "      <td>98</td>\n",
       "      <td>17_தெலங்கானா_உயர்வு_காங்கிரஸ்_ஆந்திர</td>\n",
       "    </tr>\n",
       "    <tr>\n",
       "      <th>19</th>\n",
       "      <td>18</td>\n",
       "      <td>98</td>\n",
       "      <td>18_கோர்ட்_சுப்ரீம்_உச்ச_நீதிமன்றம்</td>\n",
       "    </tr>\n",
       "    <tr>\n",
       "      <th>20</th>\n",
       "      <td>19</td>\n",
       "      <td>97</td>\n",
       "      <td>19_திமுக_ராமதாஸ்_வெற்றி_முகஅழகிரி</td>\n",
       "    </tr>\n",
       "    <tr>\n",
       "      <th>21</th>\n",
       "      <td>20</td>\n",
       "      <td>97</td>\n",
       "      <td>20_திமுக_அதிமுக_விழா_தொகுதியில்</td>\n",
       "    </tr>\n",
       "    <tr>\n",
       "      <th>22</th>\n",
       "      <td>21</td>\n",
       "      <td>95</td>\n",
       "      <td>21_ஸ்டிரைக்_சுற்றுலா_பயணிகள்_ஊட்டியில்</td>\n",
       "    </tr>\n",
       "    <tr>\n",
       "      <th>23</th>\n",
       "      <td>22</td>\n",
       "      <td>85</td>\n",
       "      <td>22_தேர்தல்_நாளை_திருவள்ளூர்_மாவட்டத்தில்</td>\n",
       "    </tr>\n",
       "    <tr>\n",
       "      <th>24</th>\n",
       "      <td>23</td>\n",
       "      <td>84</td>\n",
       "      <td>23_கிளிப்பிங்ஸ்_குறைந்தது_மேட்டூர்_ஸ்பெஷல்</td>\n",
       "    </tr>\n",
       "    <tr>\n",
       "      <th>25</th>\n",
       "      <td>24</td>\n",
       "      <td>81</td>\n",
       "      <td>24_டீசல்_விலை_மழை_பெட்ரோல்</td>\n",
       "    </tr>\n",
       "    <tr>\n",
       "      <th>26</th>\n",
       "      <td>25</td>\n",
       "      <td>80</td>\n",
       "      <td>25_கிளிப்பிங்ஸ்___</td>\n",
       "    </tr>\n",
       "    <tr>\n",
       "      <th>27</th>\n",
       "      <td>26</td>\n",
       "      <td>76</td>\n",
       "      <td>26_லிபியா_லிபியாவில்_நேட்டோ_தாக்குதல்</td>\n",
       "    </tr>\n",
       "    <tr>\n",
       "      <th>28</th>\n",
       "      <td>27</td>\n",
       "      <td>76</td>\n",
       "      <td>27_கோடி_லட்சம்_குடும்பத்துக்கு_அபராதம்</td>\n",
       "    </tr>\n",
       "    <tr>\n",
       "      <th>29</th>\n",
       "      <td>28</td>\n",
       "      <td>74</td>\n",
       "      <td>28_பார்வை_சானியா_ஜோடி_தொகுதி</td>\n",
       "    </tr>\n",
       "    <tr>\n",
       "      <th>30</th>\n",
       "      <td>29</td>\n",
       "      <td>73</td>\n",
       "      <td>29_லோக்பால்_ஹசாரே_அன்னா_மசோதா</td>\n",
       "    </tr>\n",
       "  </tbody>\n",
       "</table>\n",
       "</div>"
      ],
      "text/plain": [
       "    Topic  Count                                            Name\n",
       "0      -1   4353                          -1_பலி_கொலை_இன்று_அரசு\n",
       "1       0    882                            0_கைது_கொலை_பலி_சாவு\n",
       "2       1    817                  1_சச்சின்_தீ_ஸ்பெக்ட்ரம்_சிபிஐ\n",
       "3       2    460                   2_இந்தியா_வெற்றி_மோதல்_இந்திய\n",
       "4       3    338                 3_நடிகை_ஹீரோயின்_இயக்குனர்_ஹீரோ\n",
       "5       4    284                  4_தேர்தல்_ஆணையம்_வாக்கு_கமிஷன்\n",
       "6       5    207          5_ஜெயலலிதா_விஜயகாந்த்_முதல்வர்_வடிவேலு\n",
       "7       6    190                6_காங்கிரஸ்_மாஜி_முகர்ஜி_பிரணாப்\n",
       "8       7    172                             7_லாரி_பஸ்_மோதி_பலி\n",
       "9       8    161                   8_கைது_லஞ்சம்_மாணவர்கள்_மோசடி\n",
       "10      9    155  9_பல்கலையில்_பொறியியல்_விஐடி_பல்கலைக்கழகத்தில்\n",
       "11     10    136              10_அதிமுக_திமுக_அதிமுகவினர்_கடிதம்\n",
       "12     11    135             11_கருணாநிதி_முதல்வர்_திருவா்_திமுக\n",
       "13     12    125             12_ஐகோர்ட்_எம்பிபிஎஸ்_உத்தரவு_ஐஏஎஸ்\n",
       "14     13    119                    13_டூர்_சம்மர்_கிரகணம்_தரும்\n",
       "15     14    119           14_கோயிலில்_கோயில்_பக்தர்கள்_திருவிழா\n",
       "16     15    117                       15_டோனி_மோதல்_இன்று_அன்கோ\n",
       "17     16    116              16_சமச்சீர்_கல்வி_தனியார்_பள்ளிகள்\n",
       "18     17     98            17_தெலங்கானா_உயர்வு_காங்கிரஸ்_ஆந்திர\n",
       "19     18     98              18_கோர்ட்_சுப்ரீம்_உச்ச_நீதிமன்றம்\n",
       "20     19     97               19_திமுக_ராமதாஸ்_வெற்றி_முகஅழகிரி\n",
       "21     20     97                 20_திமுக_அதிமுக_விழா_தொகுதியில்\n",
       "22     21     95          21_ஸ்டிரைக்_சுற்றுலா_பயணிகள்_ஊட்டியில்\n",
       "23     22     85        22_தேர்தல்_நாளை_திருவள்ளூர்_மாவட்டத்தில்\n",
       "24     23     84      23_கிளிப்பிங்ஸ்_குறைந்தது_மேட்டூர்_ஸ்பெஷல்\n",
       "25     24     81                      24_டீசல்_விலை_மழை_பெட்ரோல்\n",
       "26     25     80                              25_கிளிப்பிங்ஸ்___\n",
       "27     26     76           26_லிபியா_லிபியாவில்_நேட்டோ_தாக்குதல்\n",
       "28     27     76          27_கோடி_லட்சம்_குடும்பத்துக்கு_அபராதம்\n",
       "29     28     74                    28_பார்வை_சானியா_ஜோடி_தொகுதி\n",
       "30     29     73                   29_லோக்பால்_ஹசாரே_அன்னா_மசோதா"
      ]
     },
     "execution_count": 15,
     "metadata": {},
     "output_type": "execute_result"
    }
   ],
   "source": [
    "# Get the topics\n",
    "\n",
    "topic_model.get_topic_info()"
   ]
  },
  {
   "cell_type": "code",
   "execution_count": 16,
   "metadata": {},
   "outputs": [],
   "source": [
    "import gensim.corpora as corpora\n",
    "from gensim.models.coherencemodel import CoherenceModel\n",
    "\n",
    "# Preprocess documents\n",
    "\n",
    "cleaned_docs = topic_model._preprocess_text(docs)\n",
    "\n",
    "# Extract vectorizer and tokenizer from BERTopic\n",
    "\n",
    "vectorizer = topic_model.vectorizer_model\n",
    "tokenizer = vectorizer.build_tokenizer()\n",
    "\n",
    "# Extract features for Topic Coherence evaluation\n",
    "\n",
    "words = vectorizer.get_feature_names_out()\n",
    "tokens = [tokenizer(doc) for doc in cleaned_docs]\n",
    "dictionary = corpora.Dictionary(tokens)\n",
    "corpus = [dictionary.doc2bow(token) for token in tokens]\n",
    "topic_words = [[words for words, _ in topic_model.get_topic(topic)] \n",
    "               for topic in range(len(topic_model.get_topics())-1)]"
   ]
  },
  {
   "cell_type": "code",
   "execution_count": 17,
   "metadata": {},
   "outputs": [
    {
     "name": "stderr",
     "output_type": "stream",
     "text": [
      "/Users/samyuktha/opt/anaconda3/envs/ml/lib/python3.9/site-packages/numpy/core/fromnumeric.py:3432: RuntimeWarning: Mean of empty slice.\n",
      "  return _methods._mean(a, axis=axis, dtype=dtype,\n",
      "/Users/samyuktha/opt/anaconda3/envs/ml/lib/python3.9/site-packages/numpy/core/_methods.py:190: RuntimeWarning: invalid value encountered in double_scalars\n",
      "  ret = ret.dtype.type(ret / rcount)\n"
     ]
    },
    {
     "data": {
      "text/plain": [
       "nan"
      ]
     },
     "execution_count": 17,
     "metadata": {},
     "output_type": "execute_result"
    }
   ],
   "source": [
    "\n",
    "# Evaluate\n",
    "\n",
    "coherence_model = CoherenceModel(topics=topic_words, \n",
    "                                 texts=tokens, \n",
    "                                 corpus=corpus,\n",
    "                                 dictionary=dictionary, \n",
    "                                 coherence='u_mass')\n",
    "coherence = coherence_model.get_coherence()\n",
    "coherence"
   ]
  },
  {
   "cell_type": "code",
   "execution_count": 18,
   "metadata": {},
   "outputs": [
    {
     "data": {
      "application/vnd.plotly.v1+json": {
       "config": {
        "plotlyServerURL": "https://plot.ly"
       },
       "data": [
        {
         "marker": {
          "color": "#D55E00"
         },
         "orientation": "h",
         "type": "bar",
         "x": [
          0.030508175175304686,
          0.0319001138940929,
          0.037846469071481766,
          0.04413525429262816,
          0.048440929390377696
         ],
         "xaxis": "x",
         "y": [
          "பெண்  ",
          "சாவு  ",
          "பலி  ",
          "கொலை  ",
          "கைது  "
         ],
         "yaxis": "y"
        },
        {
         "marker": {
          "color": "#0072B2"
         },
         "orientation": "h",
         "type": "bar",
         "x": [
          0.009527419459111086,
          0.010090119298577543,
          0.01067552271967488,
          0.012344043494815478,
          0.0170075981206085
         ],
         "xaxis": "x2",
         "y": [
          "வழக்கு  ",
          "சிபிஐ  ",
          "ஸ்பெக்ட்ரம்  ",
          "தீ  ",
          "சச்சின்  "
         ],
         "yaxis": "y2"
        },
        {
         "marker": {
          "color": "#CC79A7"
         },
         "orientation": "h",
         "type": "bar",
         "x": [
          0.026478411210891794,
          0.03525357584475718,
          0.03871609238129776,
          0.04388188663958271,
          0.09389959460994511
         ],
         "xaxis": "x3",
         "y": [
          "பாகிஸ்தான்  ",
          "இந்திய  ",
          "மோதல்  ",
          "வெற்றி  ",
          "இந்தியா  "
         ],
         "yaxis": "y3"
        },
        {
         "marker": {
          "color": "#E69F00"
         },
         "orientation": "h",
         "type": "bar",
         "x": [
          0.05343120536185736,
          0.09104530112861989,
          0.09331221817519111,
          0.09792798794579871,
          0.1501987577459098
         ],
         "xaxis": "x4",
         "y": [
          "நடிகர்  ",
          "ஹீரோ  ",
          "இயக்குனர்  ",
          "ஹீரோயின்  ",
          "நடிகை  "
         ],
         "yaxis": "y4"
        },
        {
         "marker": {
          "color": "#56B4E9"
         },
         "orientation": "h",
         "type": "bar",
         "x": [
          0.043102164548172395,
          0.05195625831104773,
          0.05471788260065269,
          0.06928173835931378,
          0.1525894948802277
         ],
         "xaxis": "x5",
         "y": [
          "அதிகாரி  ",
          "கமிஷன்  ",
          "வாக்கு  ",
          "ஆணையம்  ",
          "தேர்தல்  "
         ],
         "yaxis": "y5"
        },
        {
         "marker": {
          "color": "#009E73"
         },
         "orientation": "h",
         "type": "bar",
         "x": [
          0.0390650963927151,
          0.039442388473432566,
          0.0490292770972987,
          0.10625267891421813,
          0.2007355094375864
         ],
         "xaxis": "x6",
         "y": [
          "பிரசாரம்  ",
          "வடிவேலு  ",
          "முதல்வர்  ",
          "விஜயகாந்த்  ",
          "ஜெயலலிதா  "
         ],
         "yaxis": "y6"
        },
        {
         "marker": {
          "color": "#F0E442"
         },
         "orientation": "h",
         "type": "bar",
         "x": [
          0.03684231852173507,
          0.04152557219503531,
          0.044396809294143476,
          0.04745771593679727,
          0.06491710693655614
         ],
         "xaxis": "x7",
         "y": [
          "காங்கிரசுக்கு  ",
          "பிரணாப்  ",
          "முகர்ஜி  ",
          "மாஜி  ",
          "காங்கிரஸ்  "
         ],
         "yaxis": "y7"
        },
        {
         "marker": {
          "color": "#D55E00"
         },
         "orientation": "h",
         "type": "bar",
         "x": [
          0.07405743384536685,
          0.08851081536859905,
          0.09102162983996406,
          0.1115749010941495,
          0.1548641944935486
         ],
         "xaxis": "x8",
         "y": [
          "கார்  ",
          "பலி  ",
          "மோதி  ",
          "பஸ்  ",
          "லாரி  "
         ],
         "yaxis": "y8"
        }
       ],
       "layout": {
        "annotations": [
         {
          "font": {
           "size": 16
          },
          "showarrow": false,
          "text": "Topic 0",
          "x": 0.0875,
          "xanchor": "center",
          "xref": "paper",
          "y": 1,
          "yanchor": "bottom",
          "yref": "paper"
         },
         {
          "font": {
           "size": 16
          },
          "showarrow": false,
          "text": "Topic 1",
          "x": 0.36250000000000004,
          "xanchor": "center",
          "xref": "paper",
          "y": 1,
          "yanchor": "bottom",
          "yref": "paper"
         },
         {
          "font": {
           "size": 16
          },
          "showarrow": false,
          "text": "Topic 2",
          "x": 0.6375000000000001,
          "xanchor": "center",
          "xref": "paper",
          "y": 1,
          "yanchor": "bottom",
          "yref": "paper"
         },
         {
          "font": {
           "size": 16
          },
          "showarrow": false,
          "text": "Topic 3",
          "x": 0.9125,
          "xanchor": "center",
          "xref": "paper",
          "y": 1,
          "yanchor": "bottom",
          "yref": "paper"
         },
         {
          "font": {
           "size": 16
          },
          "showarrow": false,
          "text": "Topic 4",
          "x": 0.0875,
          "xanchor": "center",
          "xref": "paper",
          "y": 0.4,
          "yanchor": "bottom",
          "yref": "paper"
         },
         {
          "font": {
           "size": 16
          },
          "showarrow": false,
          "text": "Topic 5",
          "x": 0.36250000000000004,
          "xanchor": "center",
          "xref": "paper",
          "y": 0.4,
          "yanchor": "bottom",
          "yref": "paper"
         },
         {
          "font": {
           "size": 16
          },
          "showarrow": false,
          "text": "Topic 6",
          "x": 0.6375000000000001,
          "xanchor": "center",
          "xref": "paper",
          "y": 0.4,
          "yanchor": "bottom",
          "yref": "paper"
         },
         {
          "font": {
           "size": 16
          },
          "showarrow": false,
          "text": "Topic 7",
          "x": 0.9125,
          "xanchor": "center",
          "xref": "paper",
          "y": 0.4,
          "yanchor": "bottom",
          "yref": "paper"
         }
        ],
        "height": 500,
        "hoverlabel": {
         "bgcolor": "white",
         "font": {
          "family": "Rockwell",
          "size": 16
         }
        },
        "showlegend": false,
        "template": {
         "data": {
          "bar": [
           {
            "error_x": {
             "color": "#2a3f5f"
            },
            "error_y": {
             "color": "#2a3f5f"
            },
            "marker": {
             "line": {
              "color": "white",
              "width": 0.5
             },
             "pattern": {
              "fillmode": "overlay",
              "size": 10,
              "solidity": 0.2
             }
            },
            "type": "bar"
           }
          ],
          "barpolar": [
           {
            "marker": {
             "line": {
              "color": "white",
              "width": 0.5
             },
             "pattern": {
              "fillmode": "overlay",
              "size": 10,
              "solidity": 0.2
             }
            },
            "type": "barpolar"
           }
          ],
          "carpet": [
           {
            "aaxis": {
             "endlinecolor": "#2a3f5f",
             "gridcolor": "#C8D4E3",
             "linecolor": "#C8D4E3",
             "minorgridcolor": "#C8D4E3",
             "startlinecolor": "#2a3f5f"
            },
            "baxis": {
             "endlinecolor": "#2a3f5f",
             "gridcolor": "#C8D4E3",
             "linecolor": "#C8D4E3",
             "minorgridcolor": "#C8D4E3",
             "startlinecolor": "#2a3f5f"
            },
            "type": "carpet"
           }
          ],
          "choropleth": [
           {
            "colorbar": {
             "outlinewidth": 0,
             "ticks": ""
            },
            "type": "choropleth"
           }
          ],
          "contour": [
           {
            "colorbar": {
             "outlinewidth": 0,
             "ticks": ""
            },
            "colorscale": [
             [
              0,
              "#0d0887"
             ],
             [
              0.1111111111111111,
              "#46039f"
             ],
             [
              0.2222222222222222,
              "#7201a8"
             ],
             [
              0.3333333333333333,
              "#9c179e"
             ],
             [
              0.4444444444444444,
              "#bd3786"
             ],
             [
              0.5555555555555556,
              "#d8576b"
             ],
             [
              0.6666666666666666,
              "#ed7953"
             ],
             [
              0.7777777777777778,
              "#fb9f3a"
             ],
             [
              0.8888888888888888,
              "#fdca26"
             ],
             [
              1,
              "#f0f921"
             ]
            ],
            "type": "contour"
           }
          ],
          "contourcarpet": [
           {
            "colorbar": {
             "outlinewidth": 0,
             "ticks": ""
            },
            "type": "contourcarpet"
           }
          ],
          "heatmap": [
           {
            "colorbar": {
             "outlinewidth": 0,
             "ticks": ""
            },
            "colorscale": [
             [
              0,
              "#0d0887"
             ],
             [
              0.1111111111111111,
              "#46039f"
             ],
             [
              0.2222222222222222,
              "#7201a8"
             ],
             [
              0.3333333333333333,
              "#9c179e"
             ],
             [
              0.4444444444444444,
              "#bd3786"
             ],
             [
              0.5555555555555556,
              "#d8576b"
             ],
             [
              0.6666666666666666,
              "#ed7953"
             ],
             [
              0.7777777777777778,
              "#fb9f3a"
             ],
             [
              0.8888888888888888,
              "#fdca26"
             ],
             [
              1,
              "#f0f921"
             ]
            ],
            "type": "heatmap"
           }
          ],
          "heatmapgl": [
           {
            "colorbar": {
             "outlinewidth": 0,
             "ticks": ""
            },
            "colorscale": [
             [
              0,
              "#0d0887"
             ],
             [
              0.1111111111111111,
              "#46039f"
             ],
             [
              0.2222222222222222,
              "#7201a8"
             ],
             [
              0.3333333333333333,
              "#9c179e"
             ],
             [
              0.4444444444444444,
              "#bd3786"
             ],
             [
              0.5555555555555556,
              "#d8576b"
             ],
             [
              0.6666666666666666,
              "#ed7953"
             ],
             [
              0.7777777777777778,
              "#fb9f3a"
             ],
             [
              0.8888888888888888,
              "#fdca26"
             ],
             [
              1,
              "#f0f921"
             ]
            ],
            "type": "heatmapgl"
           }
          ],
          "histogram": [
           {
            "marker": {
             "pattern": {
              "fillmode": "overlay",
              "size": 10,
              "solidity": 0.2
             }
            },
            "type": "histogram"
           }
          ],
          "histogram2d": [
           {
            "colorbar": {
             "outlinewidth": 0,
             "ticks": ""
            },
            "colorscale": [
             [
              0,
              "#0d0887"
             ],
             [
              0.1111111111111111,
              "#46039f"
             ],
             [
              0.2222222222222222,
              "#7201a8"
             ],
             [
              0.3333333333333333,
              "#9c179e"
             ],
             [
              0.4444444444444444,
              "#bd3786"
             ],
             [
              0.5555555555555556,
              "#d8576b"
             ],
             [
              0.6666666666666666,
              "#ed7953"
             ],
             [
              0.7777777777777778,
              "#fb9f3a"
             ],
             [
              0.8888888888888888,
              "#fdca26"
             ],
             [
              1,
              "#f0f921"
             ]
            ],
            "type": "histogram2d"
           }
          ],
          "histogram2dcontour": [
           {
            "colorbar": {
             "outlinewidth": 0,
             "ticks": ""
            },
            "colorscale": [
             [
              0,
              "#0d0887"
             ],
             [
              0.1111111111111111,
              "#46039f"
             ],
             [
              0.2222222222222222,
              "#7201a8"
             ],
             [
              0.3333333333333333,
              "#9c179e"
             ],
             [
              0.4444444444444444,
              "#bd3786"
             ],
             [
              0.5555555555555556,
              "#d8576b"
             ],
             [
              0.6666666666666666,
              "#ed7953"
             ],
             [
              0.7777777777777778,
              "#fb9f3a"
             ],
             [
              0.8888888888888888,
              "#fdca26"
             ],
             [
              1,
              "#f0f921"
             ]
            ],
            "type": "histogram2dcontour"
           }
          ],
          "mesh3d": [
           {
            "colorbar": {
             "outlinewidth": 0,
             "ticks": ""
            },
            "type": "mesh3d"
           }
          ],
          "parcoords": [
           {
            "line": {
             "colorbar": {
              "outlinewidth": 0,
              "ticks": ""
             }
            },
            "type": "parcoords"
           }
          ],
          "pie": [
           {
            "automargin": true,
            "type": "pie"
           }
          ],
          "scatter": [
           {
            "fillpattern": {
             "fillmode": "overlay",
             "size": 10,
             "solidity": 0.2
            },
            "type": "scatter"
           }
          ],
          "scatter3d": [
           {
            "line": {
             "colorbar": {
              "outlinewidth": 0,
              "ticks": ""
             }
            },
            "marker": {
             "colorbar": {
              "outlinewidth": 0,
              "ticks": ""
             }
            },
            "type": "scatter3d"
           }
          ],
          "scattercarpet": [
           {
            "marker": {
             "colorbar": {
              "outlinewidth": 0,
              "ticks": ""
             }
            },
            "type": "scattercarpet"
           }
          ],
          "scattergeo": [
           {
            "marker": {
             "colorbar": {
              "outlinewidth": 0,
              "ticks": ""
             }
            },
            "type": "scattergeo"
           }
          ],
          "scattergl": [
           {
            "marker": {
             "colorbar": {
              "outlinewidth": 0,
              "ticks": ""
             }
            },
            "type": "scattergl"
           }
          ],
          "scattermapbox": [
           {
            "marker": {
             "colorbar": {
              "outlinewidth": 0,
              "ticks": ""
             }
            },
            "type": "scattermapbox"
           }
          ],
          "scatterpolar": [
           {
            "marker": {
             "colorbar": {
              "outlinewidth": 0,
              "ticks": ""
             }
            },
            "type": "scatterpolar"
           }
          ],
          "scatterpolargl": [
           {
            "marker": {
             "colorbar": {
              "outlinewidth": 0,
              "ticks": ""
             }
            },
            "type": "scatterpolargl"
           }
          ],
          "scatterternary": [
           {
            "marker": {
             "colorbar": {
              "outlinewidth": 0,
              "ticks": ""
             }
            },
            "type": "scatterternary"
           }
          ],
          "surface": [
           {
            "colorbar": {
             "outlinewidth": 0,
             "ticks": ""
            },
            "colorscale": [
             [
              0,
              "#0d0887"
             ],
             [
              0.1111111111111111,
              "#46039f"
             ],
             [
              0.2222222222222222,
              "#7201a8"
             ],
             [
              0.3333333333333333,
              "#9c179e"
             ],
             [
              0.4444444444444444,
              "#bd3786"
             ],
             [
              0.5555555555555556,
              "#d8576b"
             ],
             [
              0.6666666666666666,
              "#ed7953"
             ],
             [
              0.7777777777777778,
              "#fb9f3a"
             ],
             [
              0.8888888888888888,
              "#fdca26"
             ],
             [
              1,
              "#f0f921"
             ]
            ],
            "type": "surface"
           }
          ],
          "table": [
           {
            "cells": {
             "fill": {
              "color": "#EBF0F8"
             },
             "line": {
              "color": "white"
             }
            },
            "header": {
             "fill": {
              "color": "#C8D4E3"
             },
             "line": {
              "color": "white"
             }
            },
            "type": "table"
           }
          ]
         },
         "layout": {
          "annotationdefaults": {
           "arrowcolor": "#2a3f5f",
           "arrowhead": 0,
           "arrowwidth": 1
          },
          "autotypenumbers": "strict",
          "coloraxis": {
           "colorbar": {
            "outlinewidth": 0,
            "ticks": ""
           }
          },
          "colorscale": {
           "diverging": [
            [
             0,
             "#8e0152"
            ],
            [
             0.1,
             "#c51b7d"
            ],
            [
             0.2,
             "#de77ae"
            ],
            [
             0.3,
             "#f1b6da"
            ],
            [
             0.4,
             "#fde0ef"
            ],
            [
             0.5,
             "#f7f7f7"
            ],
            [
             0.6,
             "#e6f5d0"
            ],
            [
             0.7,
             "#b8e186"
            ],
            [
             0.8,
             "#7fbc41"
            ],
            [
             0.9,
             "#4d9221"
            ],
            [
             1,
             "#276419"
            ]
           ],
           "sequential": [
            [
             0,
             "#0d0887"
            ],
            [
             0.1111111111111111,
             "#46039f"
            ],
            [
             0.2222222222222222,
             "#7201a8"
            ],
            [
             0.3333333333333333,
             "#9c179e"
            ],
            [
             0.4444444444444444,
             "#bd3786"
            ],
            [
             0.5555555555555556,
             "#d8576b"
            ],
            [
             0.6666666666666666,
             "#ed7953"
            ],
            [
             0.7777777777777778,
             "#fb9f3a"
            ],
            [
             0.8888888888888888,
             "#fdca26"
            ],
            [
             1,
             "#f0f921"
            ]
           ],
           "sequentialminus": [
            [
             0,
             "#0d0887"
            ],
            [
             0.1111111111111111,
             "#46039f"
            ],
            [
             0.2222222222222222,
             "#7201a8"
            ],
            [
             0.3333333333333333,
             "#9c179e"
            ],
            [
             0.4444444444444444,
             "#bd3786"
            ],
            [
             0.5555555555555556,
             "#d8576b"
            ],
            [
             0.6666666666666666,
             "#ed7953"
            ],
            [
             0.7777777777777778,
             "#fb9f3a"
            ],
            [
             0.8888888888888888,
             "#fdca26"
            ],
            [
             1,
             "#f0f921"
            ]
           ]
          },
          "colorway": [
           "#636efa",
           "#EF553B",
           "#00cc96",
           "#ab63fa",
           "#FFA15A",
           "#19d3f3",
           "#FF6692",
           "#B6E880",
           "#FF97FF",
           "#FECB52"
          ],
          "font": {
           "color": "#2a3f5f"
          },
          "geo": {
           "bgcolor": "white",
           "lakecolor": "white",
           "landcolor": "white",
           "showlakes": true,
           "showland": true,
           "subunitcolor": "#C8D4E3"
          },
          "hoverlabel": {
           "align": "left"
          },
          "hovermode": "closest",
          "mapbox": {
           "style": "light"
          },
          "paper_bgcolor": "white",
          "plot_bgcolor": "white",
          "polar": {
           "angularaxis": {
            "gridcolor": "#EBF0F8",
            "linecolor": "#EBF0F8",
            "ticks": ""
           },
           "bgcolor": "white",
           "radialaxis": {
            "gridcolor": "#EBF0F8",
            "linecolor": "#EBF0F8",
            "ticks": ""
           }
          },
          "scene": {
           "xaxis": {
            "backgroundcolor": "white",
            "gridcolor": "#DFE8F3",
            "gridwidth": 2,
            "linecolor": "#EBF0F8",
            "showbackground": true,
            "ticks": "",
            "zerolinecolor": "#EBF0F8"
           },
           "yaxis": {
            "backgroundcolor": "white",
            "gridcolor": "#DFE8F3",
            "gridwidth": 2,
            "linecolor": "#EBF0F8",
            "showbackground": true,
            "ticks": "",
            "zerolinecolor": "#EBF0F8"
           },
           "zaxis": {
            "backgroundcolor": "white",
            "gridcolor": "#DFE8F3",
            "gridwidth": 2,
            "linecolor": "#EBF0F8",
            "showbackground": true,
            "ticks": "",
            "zerolinecolor": "#EBF0F8"
           }
          },
          "shapedefaults": {
           "line": {
            "color": "#2a3f5f"
           }
          },
          "ternary": {
           "aaxis": {
            "gridcolor": "#DFE8F3",
            "linecolor": "#A2B1C6",
            "ticks": ""
           },
           "baxis": {
            "gridcolor": "#DFE8F3",
            "linecolor": "#A2B1C6",
            "ticks": ""
           },
           "bgcolor": "white",
           "caxis": {
            "gridcolor": "#DFE8F3",
            "linecolor": "#A2B1C6",
            "ticks": ""
           }
          },
          "title": {
           "x": 0.05
          },
          "xaxis": {
           "automargin": true,
           "gridcolor": "#EBF0F8",
           "linecolor": "#EBF0F8",
           "ticks": "",
           "title": {
            "standoff": 15
           },
           "zerolinecolor": "#EBF0F8",
           "zerolinewidth": 2
          },
          "yaxis": {
           "automargin": true,
           "gridcolor": "#EBF0F8",
           "linecolor": "#EBF0F8",
           "ticks": "",
           "title": {
            "standoff": 15
           },
           "zerolinecolor": "#EBF0F8",
           "zerolinewidth": 2
          }
         }
        },
        "title": {
         "font": {
          "color": "Black",
          "size": 22
         },
         "text": "Topic Word Scores",
         "x": 0.5,
         "xanchor": "center",
         "yanchor": "top"
        },
        "width": 1000,
        "xaxis": {
         "anchor": "y",
         "domain": [
          0,
          0.175
         ],
         "showgrid": true
        },
        "xaxis2": {
         "anchor": "y2",
         "domain": [
          0.275,
          0.45
         ],
         "showgrid": true
        },
        "xaxis3": {
         "anchor": "y3",
         "domain": [
          0.55,
          0.7250000000000001
         ],
         "showgrid": true
        },
        "xaxis4": {
         "anchor": "y4",
         "domain": [
          0.825,
          1
         ],
         "showgrid": true
        },
        "xaxis5": {
         "anchor": "y5",
         "domain": [
          0,
          0.175
         ],
         "showgrid": true
        },
        "xaxis6": {
         "anchor": "y6",
         "domain": [
          0.275,
          0.45
         ],
         "showgrid": true
        },
        "xaxis7": {
         "anchor": "y7",
         "domain": [
          0.55,
          0.7250000000000001
         ],
         "showgrid": true
        },
        "xaxis8": {
         "anchor": "y8",
         "domain": [
          0.825,
          1
         ],
         "showgrid": true
        },
        "yaxis": {
         "anchor": "x",
         "domain": [
          0.6000000000000001,
          1
         ],
         "showgrid": true
        },
        "yaxis2": {
         "anchor": "x2",
         "domain": [
          0.6000000000000001,
          1
         ],
         "showgrid": true
        },
        "yaxis3": {
         "anchor": "x3",
         "domain": [
          0.6000000000000001,
          1
         ],
         "showgrid": true
        },
        "yaxis4": {
         "anchor": "x4",
         "domain": [
          0.6000000000000001,
          1
         ],
         "showgrid": true
        },
        "yaxis5": {
         "anchor": "x5",
         "domain": [
          0,
          0.4
         ],
         "showgrid": true
        },
        "yaxis6": {
         "anchor": "x6",
         "domain": [
          0,
          0.4
         ],
         "showgrid": true
        },
        "yaxis7": {
         "anchor": "x7",
         "domain": [
          0,
          0.4
         ],
         "showgrid": true
        },
        "yaxis8": {
         "anchor": "x8",
         "domain": [
          0,
          0.4
         ],
         "showgrid": true
        }
       }
      }
     },
     "metadata": {},
     "output_type": "display_data"
    }
   ],
   "source": [
    "topic_model.visualize_barchart()"
   ]
  },
  {
   "cell_type": "code",
   "execution_count": 19,
   "metadata": {},
   "outputs": [
    {
     "data": {
      "text/html": [
       "<div>\n",
       "<style scoped>\n",
       "    .dataframe tbody tr th:only-of-type {\n",
       "        vertical-align: middle;\n",
       "    }\n",
       "\n",
       "    .dataframe tbody tr th {\n",
       "        vertical-align: top;\n",
       "    }\n",
       "\n",
       "    .dataframe thead th {\n",
       "        text-align: right;\n",
       "    }\n",
       "</style>\n",
       "<table border=\"1\" class=\"dataframe\">\n",
       "  <thead>\n",
       "    <tr style=\"text-align: right;\">\n",
       "      <th></th>\n",
       "      <th>Document</th>\n",
       "      <th>Topic</th>\n",
       "    </tr>\n",
       "  </thead>\n",
       "  <tbody>\n",
       "    <tr>\n",
       "      <th>9999</th>\n",
       "      <td>சிறையில் அதிகாரி கொலை சிபிஐ விசாரணை</td>\n",
       "      <td>-1</td>\n",
       "    </tr>\n",
       "    <tr>\n",
       "      <th>8340</th>\n",
       "      <td>மும்பை நிருபர் கொலை வழக்கு போலீஸ் அதிகாரியிடம்...</td>\n",
       "      <td>-1</td>\n",
       "    </tr>\n",
       "    <tr>\n",
       "      <th>8913</th>\n",
       "      <td>லக்னோ சிறையில் கைதி கொலை சிபிஐ விசாரிக்க பாஜ வ...</td>\n",
       "      <td>-1</td>\n",
       "    </tr>\n",
       "    <tr>\n",
       "      <th>3949</th>\n",
       "      <td>எம்எல்ஏ மகன் கொலை வழக்கில் சிறை கண்காணிப்பாளர்...</td>\n",
       "      <td>-1</td>\n",
       "    </tr>\n",
       "    <tr>\n",
       "      <th>6909</th>\n",
       "      <td>பாலியல் வழக்கில் சிக்கிய ஐஎம்எப் அதிகாரி சிறைய...</td>\n",
       "      <td>-1</td>\n",
       "    </tr>\n",
       "    <tr>\n",
       "      <th>5303</th>\n",
       "      <td>காவலாளி கொலையில் பேர் பிடிபட்டனர்</td>\n",
       "      <td>-1</td>\n",
       "    </tr>\n",
       "  </tbody>\n",
       "</table>\n",
       "</div>"
      ],
      "text/plain": [
       "                                               Document  Topic\n",
       "9999                சிறையில் அதிகாரி கொலை சிபிஐ விசாரணை     -1\n",
       "8340  மும்பை நிருபர் கொலை வழக்கு போலீஸ் அதிகாரியிடம்...     -1\n",
       "8913  லக்னோ சிறையில் கைதி கொலை சிபிஐ விசாரிக்க பாஜ வ...     -1\n",
       "3949  எம்எல்ஏ மகன் கொலை வழக்கில் சிறை கண்காணிப்பாளர்...     -1\n",
       "6909  பாலியல் வழக்கில் சிக்கிய ஐஎம்எப் அதிகாரி சிறைய...     -1\n",
       "5303                  காவலாளி கொலையில் பேர் பிடிபட்டனர்     -1"
      ]
     },
     "execution_count": 19,
     "metadata": {},
     "output_type": "execute_result"
    }
   ],
   "source": [
    "df = pd.DataFrame({\"Document\": docs, \"Topic\": topics})\n",
    "\n",
    "sample_article=df.iloc[9999]\n",
    "\n",
    "# find all documents with same topic as sample article and get their embeddings from embeds_np\n",
    "\n",
    "same_topic_docs = df[df['Topic'] == sample_article['Topic']]\n",
    "\n",
    "same_topic_docs_embeddings = embeds_np[same_topic_docs.index]\n",
    "\n",
    "\n",
    "\n",
    "from sklearn.metrics.pairwise import cosine_similarity\n",
    "\n",
    "sample_article_embedding = embeds_np[sample_article.name].reshape(1, -1)\n",
    "\n",
    "cosine_similarities = cosine_similarity(sample_article_embedding, same_topic_docs_embeddings).flatten()\n",
    "\n",
    "\n",
    "# find top 5 similar documents excluding the sample article\n",
    "\n",
    "similar_docs = same_topic_docs.iloc[cosine_similarities.argsort()[:-7:-1]]\n",
    "\n",
    "similar_docs\n",
    "\n",
    "\n",
    "\n",
    "\n",
    "\n",
    "\n"
   ]
  },
  {
   "cell_type": "code",
   "execution_count": 20,
   "metadata": {},
   "outputs": [
    {
     "ename": "TypeError",
     "evalue": "argument of type 'int' is not iterable",
     "output_type": "error",
     "traceback": [
      "\u001b[0;31m---------------------------------------------------------------------------\u001b[0m",
      "\u001b[0;31mTypeError\u001b[0m                                 Traceback (most recent call last)",
      "Cell \u001b[0;32mIn[20], line 1\u001b[0m\n\u001b[0;32m----> 1\u001b[0m new_topics \u001b[39m=\u001b[39m topic_model\u001b[39m.\u001b[39;49mreduce_outliers(docs, topics)\n",
      "File \u001b[0;32m~/opt/anaconda3/envs/ml/lib/python3.9/site-packages/bertopic/_bertopic.py:2185\u001b[0m, in \u001b[0;36mBERTopic.reduce_outliers\u001b[0;34m(self, documents, topics, strategy, probabilities, threshold, embeddings, distributions_params)\u001b[0m\n\u001b[1;32m   2183\u001b[0m \u001b[39m# Reduce outliers by extracting most frequent topics through calculating of Topic Distributions\u001b[39;00m\n\u001b[1;32m   2184\u001b[0m \u001b[39melif\u001b[39;00m strategy\u001b[39m.\u001b[39mlower() \u001b[39m==\u001b[39m \u001b[39m\"\u001b[39m\u001b[39mdistributions\u001b[39m\u001b[39m\"\u001b[39m:\n\u001b[0;32m-> 2185\u001b[0m     outlier_ids \u001b[39m=\u001b[39m [index \u001b[39mfor\u001b[39;00m index, topic \u001b[39min\u001b[39;00m \u001b[39menumerate\u001b[39m(topics) \u001b[39mif\u001b[39;00m \u001b[39m-\u001b[39m\u001b[39m1\u001b[39m \u001b[39min\u001b[39;00m topic]\n\u001b[1;32m   2186\u001b[0m     outlier_docs \u001b[39m=\u001b[39m [documents[index] \u001b[39mfor\u001b[39;00m index \u001b[39min\u001b[39;00m outlier_ids]\n\u001b[1;32m   2187\u001b[0m     topic_distr, _ \u001b[39m=\u001b[39m \u001b[39mself\u001b[39m\u001b[39m.\u001b[39mapproximate_distribution(\n\u001b[1;32m   2188\u001b[0m         outlier_docs, min_similarity\u001b[39m=\u001b[39mthreshold, \u001b[39m*\u001b[39m\u001b[39m*\u001b[39mdistributions_params\n\u001b[1;32m   2189\u001b[0m     )\n",
      "File \u001b[0;32m~/opt/anaconda3/envs/ml/lib/python3.9/site-packages/bertopic/_bertopic.py:2185\u001b[0m, in \u001b[0;36m<listcomp>\u001b[0;34m(.0)\u001b[0m\n\u001b[1;32m   2183\u001b[0m \u001b[39m# Reduce outliers by extracting most frequent topics through calculating of Topic Distributions\u001b[39;00m\n\u001b[1;32m   2184\u001b[0m \u001b[39melif\u001b[39;00m strategy\u001b[39m.\u001b[39mlower() \u001b[39m==\u001b[39m \u001b[39m\"\u001b[39m\u001b[39mdistributions\u001b[39m\u001b[39m\"\u001b[39m:\n\u001b[0;32m-> 2185\u001b[0m     outlier_ids \u001b[39m=\u001b[39m [index \u001b[39mfor\u001b[39;00m index, topic \u001b[39min\u001b[39;00m \u001b[39menumerate\u001b[39m(topics) \u001b[39mif\u001b[39;00m \u001b[39m-\u001b[39;49m\u001b[39m1\u001b[39;49m \u001b[39min\u001b[39;49;00m topic]\n\u001b[1;32m   2186\u001b[0m     outlier_docs \u001b[39m=\u001b[39m [documents[index] \u001b[39mfor\u001b[39;00m index \u001b[39min\u001b[39;00m outlier_ids]\n\u001b[1;32m   2187\u001b[0m     topic_distr, _ \u001b[39m=\u001b[39m \u001b[39mself\u001b[39m\u001b[39m.\u001b[39mapproximate_distribution(\n\u001b[1;32m   2188\u001b[0m         outlier_docs, min_similarity\u001b[39m=\u001b[39mthreshold, \u001b[39m*\u001b[39m\u001b[39m*\u001b[39mdistributions_params\n\u001b[1;32m   2189\u001b[0m     )\n",
      "\u001b[0;31mTypeError\u001b[0m: argument of type 'int' is not iterable"
     ]
    }
   ],
   "source": [
    "new_topics = topic_model.reduce_outliers(docs, topics)\n",
    "\n"
   ]
  },
  {
   "cell_type": "code",
   "execution_count": null,
   "metadata": {},
   "outputs": [],
   "source": []
  },
  {
   "cell_type": "code",
   "execution_count": null,
   "metadata": {},
   "outputs": [],
   "source": []
  },
  {
   "cell_type": "code",
   "execution_count": null,
   "metadata": {},
   "outputs": [],
   "source": []
  }
 ],
 "metadata": {
  "kernelspec": {
   "display_name": "Python 3 (ipykernel)",
   "language": "python",
   "name": "python3"
  },
  "language_info": {
   "codemirror_mode": {
    "name": "ipython",
    "version": 3
   },
   "file_extension": ".py",
   "mimetype": "text/x-python",
   "name": "python",
   "nbconvert_exporter": "python",
   "pygments_lexer": "ipython3",
   "version": "3.9.16"
  }
 },
 "nbformat": 4,
 "nbformat_minor": 2
}
