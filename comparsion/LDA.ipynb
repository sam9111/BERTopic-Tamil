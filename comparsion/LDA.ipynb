{
 "cells": [
  {
   "cell_type": "code",
   "execution_count": 1,
   "metadata": {},
   "outputs": [],
   "source": [
    "# Description: LDA model for topic modeling\n",
    "\n",
    "import os\n",
    "import pandas as pd\n",
    "import numpy as np\n",
    "file_path = \"../data/\"\n",
    "\n",
    "data = pd.read_csv(file_path+\"processed_data.csv\")"
   ]
  },
  {
   "cell_type": "code",
   "execution_count": 2,
   "metadata": {},
   "outputs": [],
   "source": [
    "# Get the tokens\n",
    "\n",
    "data[\"tokens\"] = data[\"tokens\"].map(lambda x: str(x).split(\",\"))\n"
   ]
  },
  {
   "cell_type": "code",
   "execution_count": 3,
   "metadata": {},
   "outputs": [],
   "source": [
    "# Create a dictionary from ‘tokens’ containing the number of times a word appears in the training set.\n",
    "\n",
    "from gensim import corpora\n",
    "\n",
    "text_data = data[\"tokens\"]\n",
    "dictionary = corpora.Dictionary(text_data)\n",
    "dictionary.filter_extremes(no_below=5, no_above=0.5, keep_n=1000)\n",
    "corpus = [dictionary.doc2bow(text) for text in text_data]\n"
   ]
  },
  {
   "cell_type": "code",
   "execution_count": 4,
   "metadata": {},
   "outputs": [],
   "source": [
    "from gensim.models import KeyedVectors\n",
    "from gensim.models import word2vec\n",
    "from gensim import corpora, models\n",
    "from gensim.models import CoherenceModel\n",
    "from gensim.models import LdaMulticore\n",
    "from datetime import datetime\n"
   ]
  },
  {
   "cell_type": "code",
   "execution_count": 5,
   "metadata": {},
   "outputs": [],
   "source": [
    "\n",
    "topics = []\n",
    "score = []\n",
    "time=[]\n",
    "\n",
    "# Load pre-trained Word2Vec model for Tamil language\n",
    "\n",
    "model_path = file_path+\"cc.ta.300.vec.gz\"\n",
    "\n",
    "# Load vectors directly from the file\n",
    "\n",
    "w2v_model = KeyedVectors.load_word2vec_format(model_path)\n",
    "\n"
   ]
  },
  {
   "cell_type": "code",
   "execution_count": 6,
   "metadata": {},
   "outputs": [
    {
     "name": "stdout",
     "output_type": "stream",
     "text": [
      "Number of topics:  15\n",
      "Number of topics:  25\n",
      "Number of topics:  35\n",
      "Number of topics:  45\n",
      "Number of topics:  55\n",
      "Number of topics:  65\n",
      "Number of topics:  75\n",
      "Number of topics:  85\n",
      "Number of topics:  95\n",
      "Number of topics:  105\n"
     ]
    }
   ],
   "source": [
    "\n",
    "\n",
    "# Create a LDA model for different number of topic numbers\n",
    "\n",
    "for i in range(15,115,10):\n",
    "   print(\"Number of topics: \",i)\n",
    "   start_time = datetime.now()\n",
    "   lda_model = LdaMulticore(corpus=corpus, id2word=dictionary, iterations=10, num_topics=i, workers = 4, passes=10, random_state=100)\n",
    "   end_time = datetime.now()\n",
    "   time_taken = datetime.now() - start_time\n",
    "   # Compute Coherence Score\n",
    "   \n",
    "   cm = CoherenceModel(model=lda_model, texts = data['tokens'], \n",
    "corpus=corpus, dictionary=dictionary, \n",
    "coherence='c_w2v',keyed_vectors=w2v_model)   \n",
    "   topics.append(i)\n",
    "   time.append(time_taken)\n",
    "   score.append(cm.get_coherence())"
   ]
  },
  {
   "cell_type": "code",
   "execution_count": 7,
   "metadata": {},
   "outputs": [
    {
     "data": {
      "text/html": [
       "<div>\n",
       "<style scoped>\n",
       "    .dataframe tbody tr th:only-of-type {\n",
       "        vertical-align: middle;\n",
       "    }\n",
       "\n",
       "    .dataframe tbody tr th {\n",
       "        vertical-align: top;\n",
       "    }\n",
       "\n",
       "    .dataframe thead th {\n",
       "        text-align: right;\n",
       "    }\n",
       "</style>\n",
       "<table border=\"1\" class=\"dataframe\">\n",
       "  <thead>\n",
       "    <tr style=\"text-align: right;\">\n",
       "      <th></th>\n",
       "      <th>topics</th>\n",
       "      <th>score</th>\n",
       "      <th>time</th>\n",
       "    </tr>\n",
       "  </thead>\n",
       "  <tbody>\n",
       "    <tr>\n",
       "      <th>0</th>\n",
       "      <td>15</td>\n",
       "      <td>0.501818</td>\n",
       "      <td>0 days 00:00:08.071373</td>\n",
       "    </tr>\n",
       "    <tr>\n",
       "      <th>1</th>\n",
       "      <td>25</td>\n",
       "      <td>0.487444</td>\n",
       "      <td>0 days 00:00:08.561901</td>\n",
       "    </tr>\n",
       "    <tr>\n",
       "      <th>2</th>\n",
       "      <td>35</td>\n",
       "      <td>0.477043</td>\n",
       "      <td>0 days 00:00:08.281388</td>\n",
       "    </tr>\n",
       "    <tr>\n",
       "      <th>3</th>\n",
       "      <td>45</td>\n",
       "      <td>0.473895</td>\n",
       "      <td>0 days 00:00:08.535365</td>\n",
       "    </tr>\n",
       "    <tr>\n",
       "      <th>4</th>\n",
       "      <td>55</td>\n",
       "      <td>0.476198</td>\n",
       "      <td>0 days 00:00:09.691816</td>\n",
       "    </tr>\n",
       "    <tr>\n",
       "      <th>5</th>\n",
       "      <td>65</td>\n",
       "      <td>0.476002</td>\n",
       "      <td>0 days 00:00:09.124147</td>\n",
       "    </tr>\n",
       "    <tr>\n",
       "      <th>6</th>\n",
       "      <td>75</td>\n",
       "      <td>0.480642</td>\n",
       "      <td>0 days 00:00:09.151292</td>\n",
       "    </tr>\n",
       "    <tr>\n",
       "      <th>7</th>\n",
       "      <td>85</td>\n",
       "      <td>0.485380</td>\n",
       "      <td>0 days 00:00:09.066637</td>\n",
       "    </tr>\n",
       "    <tr>\n",
       "      <th>8</th>\n",
       "      <td>95</td>\n",
       "      <td>0.490923</td>\n",
       "      <td>0 days 00:00:09.221205</td>\n",
       "    </tr>\n",
       "    <tr>\n",
       "      <th>9</th>\n",
       "      <td>105</td>\n",
       "      <td>0.490659</td>\n",
       "      <td>0 days 00:00:09.188960</td>\n",
       "    </tr>\n",
       "  </tbody>\n",
       "</table>\n",
       "</div>"
      ],
      "text/plain": [
       "   topics     score                   time\n",
       "0      15  0.501818 0 days 00:00:08.071373\n",
       "1      25  0.487444 0 days 00:00:08.561901\n",
       "2      35  0.477043 0 days 00:00:08.281388\n",
       "3      45  0.473895 0 days 00:00:08.535365\n",
       "4      55  0.476198 0 days 00:00:09.691816\n",
       "5      65  0.476002 0 days 00:00:09.124147\n",
       "6      75  0.480642 0 days 00:00:09.151292\n",
       "7      85  0.485380 0 days 00:00:09.066637\n",
       "8      95  0.490923 0 days 00:00:09.221205\n",
       "9     105  0.490659 0 days 00:00:09.188960"
      ]
     },
     "execution_count": 7,
     "metadata": {},
     "output_type": "execute_result"
    }
   ],
   "source": [
    "scores=pd.DataFrame({\"topics\":topics,\"score\":score,\"time\":time})\n",
    "\n",
    "scores"
   ]
  },
  {
   "cell_type": "code",
   "execution_count": 8,
   "metadata": {},
   "outputs": [
    {
     "data": {
      "image/png": "[encoded data removed]",
      "text/plain": [
       "<Figure size 640x480 with 1 Axes>"
      ]
     },
     "metadata": {},
     "output_type": "display_data"
    }
   ],
   "source": [
    "# Plot the coherence score for different number of topics\n",
    "\n",
    "import matplotlib.pyplot as plt\n",
    "plt.plot(topics, score)\n",
    "plt.xlabel('Number of Topics')\n",
    "plt.ylabel('Coherence Score')\n",
    "plt.show()"
   ]
  },
  {
   "cell_type": "code",
   "execution_count": 9,
   "metadata": {},
   "outputs": [],
   "source": [
    "# get score for 15 topics\n",
    "\n",
    "score_15=scores[scores[\"topics\"]==15][\"score\"].values[0]\n",
    "\n",
    "# Create a LDA model for 15 topics\n",
    "\n",
    "lda_model = LdaMulticore(corpus=corpus, id2word=dictionary, iterations=10, num_topics=15, workers = 4, passes=10, random_state=100)\n"
   ]
  },
  {
   "cell_type": "code",
   "execution_count": 10,
   "metadata": {},
   "outputs": [
    {
     "name": "stdout",
     "output_type": "stream",
     "text": [
      "Coherence score for 15 topics:  0.5018185\n"
     ]
    }
   ],
   "source": [
    "print(\"Coherence score for 15 topics: \",score_15)"
   ]
  },
  {
   "cell_type": "code",
   "execution_count": 11,
   "metadata": {},
   "outputs": [
    {
     "name": "stdout",
     "output_type": "stream",
     "text": [
      "u_mass -9.863802668615865\n",
      "c_v 0.3957378299818658\n",
      "c_uci -4.745222247584867\n",
      "c_npmi -0.13003139043838194\n"
     ]
    }
   ],
   "source": [
    "coherences=['u_mass', 'c_v', 'c_uci', 'c_npmi']\n",
    "lda_scores=[]\n",
    "for coherence in coherences:\n",
    "    cm = CoherenceModel(model=lda_model,\n",
    "                                 texts=data['tokens'],\n",
    "                                 corpus=corpus,\n",
    "                                 dictionary=dictionary,\n",
    "                                    coherence=coherence)\n",
    "    coherence_score = cm.get_coherence()\n",
    "    lda_scores.append(coherence_score)\n",
    "\n",
    "#print scores\n",
    "\n",
    "for i in range(len(coherences)):\n",
    "    print(coherences[i],lda_scores[i])\n"
   ]
  },
  {
   "cell_type": "code",
   "execution_count": 12,
   "metadata": {},
   "outputs": [
    {
     "name": "stderr",
     "output_type": "stream",
     "text": [
      "/Users/samyuktha/opt/anaconda3/envs/ml/lib/python3.9/site-packages/pyLDAvis/_prepare.py:243: FutureWarning: In a future version of pandas all arguments of DataFrame.drop except for the argument 'labels' will be keyword-only.\n",
      "  default_term_info = default_term_info.sort_values(\n"
     ]
    }
   ],
   "source": [
    "# Visualize the topics\n",
    "\n",
    "import pyLDAvis.gensim_models\n",
    "import pyLDAvis.gensim_models as gensimvis\n",
    "\n",
    "pyLDAvis.enable_notebook()\n",
    "\n",
    "lda_viz = gensimvis.prepare(lda_model, corpus, dictionary)\n",
    "pyLDAvis.save_html(lda_viz, 'lda.html')"
   ]
  },
  {
   "cell_type": "code",
   "execution_count": null,
   "metadata": {},
   "outputs": [],
   "source": []
  },
  {
   "cell_type": "code",
   "execution_count": null,
   "metadata": {},
   "outputs": [],
   "source": []
  }
 ],
 "metadata": {
  "kernelspec": {
   "display_name": "ml",
   "language": "python",
   "name": "python3"
  },
  "language_info": {
   "codemirror_mode": {
    "name": "ipython",
    "version": 3
   },
   "file_extension": ".py",
   "mimetype": "text/x-python",
   "name": "python",
   "nbconvert_exporter": "python",
   "pygments_lexer": "ipython3",
   "version": "3.9.16"
  },
  "orig_nbformat": 4
 },
 "nbformat": 4,
 "nbformat_minor": 2
}
