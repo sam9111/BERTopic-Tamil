{
 "cells": [
  {
   "cell_type": "code",
   "execution_count": 1,
   "metadata": {},
   "outputs": [],
   "source": [
    "# Description: LDA model for topic modeling\n",
    "\n",
    "import os\n",
    "import pandas as pd\n",
    "import numpy as np\n",
    "file_path = \"../data/\"\n",
    "\n",
    "data = pd.read_csv(file_path+\"processed_data.csv\")"
   ]
  },
  {
   "cell_type": "code",
   "execution_count": 2,
   "metadata": {},
   "outputs": [],
   "source": [
    "# Get the tokens\n",
    "\n",
    "data[\"tokens\"] = data[\"tokens\"].map(lambda x: str(x).split(\",\"))\n"
   ]
  },
  {
   "cell_type": "code",
   "execution_count": 3,
   "metadata": {},
   "outputs": [],
   "source": [
    "# Create a dictionary from ‘tokens’ containing the number of times a word appears in the training set.\n",
    "\n",
    "from gensim import corpora\n",
    "\n",
    "text_data = data[\"tokens\"]\n",
    "dictionary = corpora.Dictionary(text_data)\n",
    "dictionary.filter_extremes(no_below=5, no_above=0.5, keep_n=1000)\n",
    "corpus = [dictionary.doc2bow(text) for text in text_data]\n"
   ]
  },
  {
   "cell_type": "code",
   "execution_count": 4,
   "metadata": {},
   "outputs": [],
   "source": [
    "from gensim.models import KeyedVectors\n",
    "from gensim.models import word2vec\n",
    "from gensim import corpora, models\n",
    "from gensim.models import CoherenceModel\n",
    "from gensim.models import LdaMulticore\n",
    "\n",
    "topics = []\n",
    "score = []\n",
    "\n",
    "\n",
    "# Load pre-trained Word2Vec model for Tamil language\n",
    "\n",
    "model_path = file_path+\"cc.ta.300.vec.gz\"\n",
    "\n",
    "# Load vectors directly from the file\n",
    "\n",
    "w2v_model = KeyedVectors.load_word2vec_format(model_path)\n",
    "\n",
    "# Create a LDA model for different number of topic numbers\n",
    "\n",
    "for i in range(1,20,1):\n",
    "   lda_model = LdaMulticore(corpus=corpus, id2word=dictionary, iterations=10, num_topics=i, workers = 4, passes=10, random_state=100)\n",
    "   \n",
    "   # Compute Coherence Score\n",
    "   \n",
    "   cm = CoherenceModel(model=lda_model, texts = data['tokens'], \n",
    "corpus=corpus, dictionary=dictionary, \n",
    "coherence='c_w2v',keyed_vectors=w2v_model)   \n",
    "   topics.append(i)\n",
    "   score.append(cm.get_coherence())"
   ]
  },
  {
   "cell_type": "code",
   "execution_count": 5,
   "metadata": {},
   "outputs": [
    {
     "data": {
      "text/html": [
       "<div>\n",
       "<style scoped>\n",
       "    .dataframe tbody tr th:only-of-type {\n",
       "        vertical-align: middle;\n",
       "    }\n",
       "\n",
       "    .dataframe tbody tr th {\n",
       "        vertical-align: top;\n",
       "    }\n",
       "\n",
       "    .dataframe thead th {\n",
       "        text-align: right;\n",
       "    }\n",
       "</style>\n",
       "<table border=\"1\" class=\"dataframe\">\n",
       "  <thead>\n",
       "    <tr style=\"text-align: right;\">\n",
       "      <th></th>\n",
       "      <th>topics</th>\n",
       "      <th>score</th>\n",
       "    </tr>\n",
       "  </thead>\n",
       "  <tbody>\n",
       "    <tr>\n",
       "      <th>0</th>\n",
       "      <td>1</td>\n",
       "      <td>0.526297</td>\n",
       "    </tr>\n",
       "    <tr>\n",
       "      <th>1</th>\n",
       "      <td>2</td>\n",
       "      <td>0.518282</td>\n",
       "    </tr>\n",
       "    <tr>\n",
       "      <th>2</th>\n",
       "      <td>3</td>\n",
       "      <td>0.504698</td>\n",
       "    </tr>\n",
       "    <tr>\n",
       "      <th>3</th>\n",
       "      <td>4</td>\n",
       "      <td>0.489567</td>\n",
       "    </tr>\n",
       "    <tr>\n",
       "      <th>4</th>\n",
       "      <td>5</td>\n",
       "      <td>0.492065</td>\n",
       "    </tr>\n",
       "    <tr>\n",
       "      <th>5</th>\n",
       "      <td>6</td>\n",
       "      <td>0.487917</td>\n",
       "    </tr>\n",
       "    <tr>\n",
       "      <th>6</th>\n",
       "      <td>7</td>\n",
       "      <td>0.487339</td>\n",
       "    </tr>\n",
       "    <tr>\n",
       "      <th>7</th>\n",
       "      <td>8</td>\n",
       "      <td>0.483115</td>\n",
       "    </tr>\n",
       "    <tr>\n",
       "      <th>8</th>\n",
       "      <td>9</td>\n",
       "      <td>0.492464</td>\n",
       "    </tr>\n",
       "    <tr>\n",
       "      <th>9</th>\n",
       "      <td>10</td>\n",
       "      <td>0.494160</td>\n",
       "    </tr>\n",
       "    <tr>\n",
       "      <th>10</th>\n",
       "      <td>11</td>\n",
       "      <td>0.493296</td>\n",
       "    </tr>\n",
       "    <tr>\n",
       "      <th>11</th>\n",
       "      <td>12</td>\n",
       "      <td>0.485949</td>\n",
       "    </tr>\n",
       "    <tr>\n",
       "      <th>12</th>\n",
       "      <td>13</td>\n",
       "      <td>0.486891</td>\n",
       "    </tr>\n",
       "    <tr>\n",
       "      <th>13</th>\n",
       "      <td>14</td>\n",
       "      <td>0.482712</td>\n",
       "    </tr>\n",
       "    <tr>\n",
       "      <th>14</th>\n",
       "      <td>15</td>\n",
       "      <td>0.487305</td>\n",
       "    </tr>\n",
       "    <tr>\n",
       "      <th>15</th>\n",
       "      <td>16</td>\n",
       "      <td>0.486757</td>\n",
       "    </tr>\n",
       "    <tr>\n",
       "      <th>16</th>\n",
       "      <td>17</td>\n",
       "      <td>0.484232</td>\n",
       "    </tr>\n",
       "    <tr>\n",
       "      <th>17</th>\n",
       "      <td>18</td>\n",
       "      <td>0.481181</td>\n",
       "    </tr>\n",
       "    <tr>\n",
       "      <th>18</th>\n",
       "      <td>19</td>\n",
       "      <td>0.480010</td>\n",
       "    </tr>\n",
       "  </tbody>\n",
       "</table>\n",
       "</div>"
      ],
      "text/plain": [
       "    topics     score\n",
       "0        1  0.526297\n",
       "1        2  0.518282\n",
       "2        3  0.504698\n",
       "3        4  0.489567\n",
       "4        5  0.492065\n",
       "5        6  0.487917\n",
       "6        7  0.487339\n",
       "7        8  0.483115\n",
       "8        9  0.492464\n",
       "9       10  0.494160\n",
       "10      11  0.493296\n",
       "11      12  0.485949\n",
       "12      13  0.486891\n",
       "13      14  0.482712\n",
       "14      15  0.487305\n",
       "15      16  0.486757\n",
       "16      17  0.484232\n",
       "17      18  0.481181\n",
       "18      19  0.480010"
      ]
     },
     "execution_count": 5,
     "metadata": {},
     "output_type": "execute_result"
    }
   ],
   "source": [
    "scores=pd.DataFrame({\"topics\":topics,\"score\":score})\n",
    "\n",
    "scores"
   ]
  },
  {
   "cell_type": "code",
   "execution_count": 6,
   "metadata": {},
   "outputs": [
    {
     "data": {
      "image/png": "[encoded data removed]",
      "text/plain": [
       "<Figure size 640x480 with 1 Axes>"
      ]
     },
     "metadata": {},
     "output_type": "display_data"
    }
   ],
   "source": [
    "# Plot the coherence score for different number of topics\n",
    "\n",
    "import matplotlib.pyplot as plt\n",
    "plt.plot(topics, score)\n",
    "plt.xlabel('Number of Topics')\n",
    "plt.ylabel('Coherence Score')\n",
    "plt.show()"
   ]
  },
  {
   "cell_type": "code",
   "execution_count": 7,
   "metadata": {},
   "outputs": [],
   "source": [
    "# get score for 15 topics\n",
    "\n",
    "score_15=scores[scores[\"topics\"]==15][\"score\"].values[0]\n",
    "\n",
    "# Create a LDA model for 15 topics\n",
    "\n",
    "lda_model = LdaMulticore(corpus=corpus, id2word=dictionary, iterations=10, num_topics=15, workers = 4, passes=10, random_state=100)\n"
   ]
  },
  {
   "cell_type": "code",
   "execution_count": 11,
   "metadata": {},
   "outputs": [
    {
     "name": "stdout",
     "output_type": "stream",
     "text": [
      "Coherence score for 15 topics:  0.48730546\n"
     ]
    }
   ],
   "source": [
    "print(\"Coherence score for 15 topics: \",score_15)"
   ]
  },
  {
   "cell_type": "code",
   "execution_count": 10,
   "metadata": {},
   "outputs": [
    {
     "name": "stdout",
     "output_type": "stream",
     "text": [
      "u_mass -15.968470903810987\n",
      "c_v 0.5382446748831702\n",
      "c_uci -10.650366118414789\n",
      "c_npmi -0.3435461977702172\n"
     ]
    }
   ],
   "source": [
    "coherences=['u_mass', 'c_v', 'c_uci', 'c_npmi']\n",
    "lda_scores=[]\n",
    "for coherence in coherences:\n",
    "    cm = CoherenceModel(model=lda_model,\n",
    "                                 texts=data['tokens'],\n",
    "                                 corpus=corpus,\n",
    "                                 dictionary=dictionary,\n",
    "                                    coherence=coherence)\n",
    "    coherence_score = cm.get_coherence()\n",
    "    lda_scores.append(coherence_score)\n",
    "\n",
    "#print scores\n",
    "\n",
    "for i in range(len(coherences)):\n",
    "    print(coherences[i],lda_scores[i])\n"
   ]
  },
  {
   "cell_type": "code",
   "execution_count": 8,
   "metadata": {},
   "outputs": [
    {
     "name": "stderr",
     "output_type": "stream",
     "text": [
      "/Users/samyuktha/opt/anaconda3/envs/ml/lib/python3.9/site-packages/pyLDAvis/_prepare.py:243: FutureWarning: In a future version of pandas all arguments of DataFrame.drop except for the argument 'labels' will be keyword-only.\n",
      "  default_term_info = default_term_info.sort_values(\n"
     ]
    }
   ],
   "source": [
    "# Visualize the topics\n",
    "\n",
    "import pyLDAvis.gensim_models\n",
    "import pyLDAvis.gensim_models as gensimvis\n",
    "\n",
    "pyLDAvis.enable_notebook()\n",
    "\n",
    "lda_viz = gensimvis.prepare(lda_model, corpus, dictionary)\n",
    "pyLDAvis.save_html(lda_viz, 'lda.html')"
   ]
  },
  {
   "cell_type": "code",
   "execution_count": null,
   "metadata": {},
   "outputs": [],
   "source": []
  },
  {
   "cell_type": "code",
   "execution_count": null,
   "metadata": {},
   "outputs": [],
   "source": []
  }
 ],
 "metadata": {
  "kernelspec": {
   "display_name": "ml",
   "language": "python",
   "name": "python3"
  },
  "language_info": {
   "codemirror_mode": {
    "name": "ipython",
    "version": 3
   },
   "file_extension": ".py",
   "mimetype": "text/x-python",
   "name": "python",
   "nbconvert_exporter": "python",
   "pygments_lexer": "ipython3",
   "version": "3.9.16"
  },
  "orig_nbformat": 4
 },
 "nbformat": 4,
 "nbformat_minor": 2
}
