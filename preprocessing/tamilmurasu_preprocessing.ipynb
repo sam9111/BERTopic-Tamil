{
 "cells": [
  {
   "cell_type": "code",
   "execution_count": null,
   "metadata": {},
   "outputs": [],
   "source": [
    "import os\n",
    "import pandas as pd\n",
    "import numpy as np\n",
    "file_path = \"../data/\"\n",
    "\n",
    "data = pd.read_csv(file_path+\"tamilmurasu_dataset.csv\")\n",
    "\n",
    "data.describe()"
   ]
  },
  {
   "cell_type": "code",
   "execution_count": null,
   "metadata": {},
   "outputs": [],
   "source": [
    "import re\n",
    "\n",
    "CLEAN_ALPHA = re.compile(\"[a-zA-Z0-9 ]+\")\n",
    "CLEAN_PUNCT = re.compile(r\"[&.;:`!\\'?,\\\"()\\[\\]-|’‘-]\")\n",
    "CLEAN_MONEY = re.compile(r\"ரூ.\")\n",
    "CLEAN_SINGLE = pattern = re.compile(r'\\s+[^\\u0B80-\\u0BFF]{0,1}\\s+')\n",
    "CLEAN_M = re.compile(r\"ம்\")\n",
    "CLEAN_MULTIPLE = re.compile(r\"\\.{2,}\")\n",
    "CLEAN_WHITE = re.compile(r\"\\s{2,}\")\n",
    "\n",
    "\n",
    "def clean(text):\n",
    "    text = text.replace(CLEAN_ALPHA, \" \", regex=True)\n",
    "    text = text.replace(CLEAN_PUNCT, \"\", regex=True)\n",
    "    text = text.replace(CLEAN_MONEY, \"\", regex=True)\n",
    "    text = text.replace(CLEAN_MULTIPLE, \" \", regex=True)\n",
    "    text = text.replace(CLEAN_SINGLE, \" \", regex=True)\n",
    "    text = text.replace(CLEAN_M, \"\", regex=True)\n",
    "    text = text.replace(CLEAN_WHITE, \" \", regex=True)\n",
    "    text.map(lambda x: ''.join(x.splitlines()))\n",
    "\n",
    "    return text\n",
    "\n",
    "\n",
    "data[\"news_title\"] = clean(data[\"news_title\"])\n",
    "data[\"news_title\"] = data[\"news_title\"].str.strip()\n",
    "\n"
   ]
  },
  {
   "cell_type": "code",
   "execution_count": null,
   "metadata": {},
   "outputs": [],
   "source": [
    "data.drop_duplicates(keep=False, inplace=True,subset=['news_title',\"news_article\"])\n",
    "\n",
    "data.describe()"
   ]
  },
  {
   "cell_type": "code",
   "execution_count": null,
   "metadata": {},
   "outputs": [],
   "source": [
    "data.dropna(inplace=True)\n",
    "\n",
    "data=data[:10000]"
   ]
  },
  {
   "cell_type": "code",
   "execution_count": null,
   "metadata": {},
   "outputs": [],
   "source": [
    "data.to_csv(\"/Users/samyuktha/FYP/data/train.csv\", index=False)"
   ]
  },
  {
   "cell_type": "code",
   "execution_count": null,
   "metadata": {},
   "outputs": [],
   "source": []
  },
  {
   "cell_type": "code",
   "execution_count": null,
   "metadata": {},
   "outputs": [],
   "source": []
  },
  {
   "cell_type": "code",
   "execution_count": null,
   "metadata": {},
   "outputs": [],
   "source": []
  },
  {
   "cell_type": "code",
   "execution_count": null,
   "metadata": {},
   "outputs": [],
   "source": []
  }
 ],
 "metadata": {
  "kernelspec": {
   "display_name": "Python 3 (ipykernel)",
   "language": "python",
   "name": "python3"
  },
  "language_info": {
   "codemirror_mode": {
    "name": "ipython",
    "version": 3
   },
   "file_extension": ".py",
   "mimetype": "text/x-python",
   "name": "python",
   "nbconvert_exporter": "python",
   "pygments_lexer": "ipython3",
   "version": "3.9.16"
  }
 },
 "nbformat": 4,
 "nbformat_minor": 2
}
