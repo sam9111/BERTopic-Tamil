{
 "cells": [
  {
   "cell_type": "code",
   "execution_count": 1,
   "metadata": {},
   "outputs": [
    {
     "data": {
      "text/html": [
       "<div>\n",
       "<style scoped>\n",
       "    .dataframe tbody tr th:only-of-type {\n",
       "        vertical-align: middle;\n",
       "    }\n",
       "\n",
       "    .dataframe tbody tr th {\n",
       "        vertical-align: top;\n",
       "    }\n",
       "\n",
       "    .dataframe thead th {\n",
       "        text-align: right;\n",
       "    }\n",
       "</style>\n",
       "<table border=\"1\" class=\"dataframe\">\n",
       "  <thead>\n",
       "    <tr style=\"text-align: right;\">\n",
       "      <th></th>\n",
       "      <th>news_date</th>\n",
       "      <th>tokens</th>\n",
       "    </tr>\n",
       "  </thead>\n",
       "  <tbody>\n",
       "    <tr>\n",
       "      <th>0</th>\n",
       "      <td>1/6/2011 2:45:49 PM</td>\n",
       "      <td>தூக்கில்,தொங்கும்,சேவல்கள்,திருடர்களை,காவு,வாங...</td>\n",
       "    </tr>\n",
       "    <tr>\n",
       "      <th>1</th>\n",
       "      <td>1/6/2011 2:56:51 PM</td>\n",
       "      <td>பவுர்ணமி,ஜாமத்தில்,மாயமான,கர்ப்பிணி</td>\n",
       "    </tr>\n",
       "    <tr>\n",
       "      <th>2</th>\n",
       "      <td>1/6/2011 3:02:00 PM</td>\n",
       "      <td>காமன்வெல்த்,ஊழல்,சுரேஷ்,கல்மாடியிடம்,கேள்விகள்</td>\n",
       "    </tr>\n",
       "    <tr>\n",
       "      <th>3</th>\n",
       "      <td>1/6/2011 3:08:15 PM</td>\n",
       "      <td>மச்சுபிச்சு,மலை,ரகசியம்</td>\n",
       "    </tr>\n",
       "    <tr>\n",
       "      <th>4</th>\n",
       "      <td>1/6/2011 3:09:20 PM</td>\n",
       "      <td>ரத்த,பலி,வாங்கும்,விபரீதம்,ஆவி</td>\n",
       "    </tr>\n",
       "    <tr>\n",
       "      <th>...</th>\n",
       "      <td>...</td>\n",
       "      <td>...</td>\n",
       "    </tr>\n",
       "    <tr>\n",
       "      <th>9995</th>\n",
       "      <td>7/14/2011 1:09:23 PM</td>\n",
       "      <td>பயிற்சி,ஆட்டத்தில்,இந்தியா,நாளை,மோதல்</td>\n",
       "    </tr>\n",
       "    <tr>\n",
       "      <th>9996</th>\n",
       "      <td>7/14/2011 1:54:26 PM</td>\n",
       "      <td>சச்சின்,புதிய,அவதாரம்,நாசர்,உசேன்</td>\n",
       "    </tr>\n",
       "    <tr>\n",
       "      <th>9997</th>\n",
       "      <td>7/14/2011 2:02:13 PM</td>\n",
       "      <td>லோக்பாலில்,பிரதமர்,ராகுல்காந்தி,எதிர்ப்பு</td>\n",
       "    </tr>\n",
       "    <tr>\n",
       "      <th>9998</th>\n",
       "      <td>7/14/2011 2:10:53 PM</td>\n",
       "      <td>நக்சல்கள்,தப்பினர்,போலீசார்,சஸ்பெண்ட்</td>\n",
       "    </tr>\n",
       "    <tr>\n",
       "      <th>9999</th>\n",
       "      <td>7/14/2011 2:11:26 PM</td>\n",
       "      <td>சிறை,அதிகாரி,கொலை,சிபிஐ,விசாரணை</td>\n",
       "    </tr>\n",
       "  </tbody>\n",
       "</table>\n",
       "<p>10000 rows × 2 columns</p>\n",
       "</div>"
      ],
      "text/plain": [
       "                 news_date                                             tokens\n",
       "0      1/6/2011 2:45:49 PM  தூக்கில்,தொங்கும்,சேவல்கள்,திருடர்களை,காவு,வாங...\n",
       "1      1/6/2011 2:56:51 PM                பவுர்ணமி,ஜாமத்தில்,மாயமான,கர்ப்பிணி\n",
       "2      1/6/2011 3:02:00 PM     காமன்வெல்த்,ஊழல்,சுரேஷ்,கல்மாடியிடம்,கேள்விகள்\n",
       "3      1/6/2011 3:08:15 PM                            மச்சுபிச்சு,மலை,ரகசியம்\n",
       "4      1/6/2011 3:09:20 PM                     ரத்த,பலி,வாங்கும்,விபரீதம்,ஆவி\n",
       "...                    ...                                                ...\n",
       "9995  7/14/2011 1:09:23 PM              பயிற்சி,ஆட்டத்தில்,இந்தியா,நாளை,மோதல்\n",
       "9996  7/14/2011 1:54:26 PM                  சச்சின்,புதிய,அவதாரம்,நாசர்,உசேன்\n",
       "9997  7/14/2011 2:02:13 PM          லோக்பாலில்,பிரதமர்,ராகுல்காந்தி,எதிர்ப்பு\n",
       "9998  7/14/2011 2:10:53 PM              நக்சல்கள்,தப்பினர்,போலீசார்,சஸ்பெண்ட்\n",
       "9999  7/14/2011 2:11:26 PM                    சிறை,அதிகாரி,கொலை,சிபிஐ,விசாரணை\n",
       "\n",
       "[10000 rows x 2 columns]"
      ]
     },
     "execution_count": 1,
     "metadata": {},
     "output_type": "execute_result"
    }
   ],
   "source": [
    "\n",
    "import os\n",
    "import pandas as pd\n",
    "import numpy as np\n",
    "file_path = \"../data/\"\n",
    "\n",
    "data = pd.read_csv(file_path+\"processed_data.csv\")\n",
    "\n",
    "data\n",
    "\n"
   ]
  },
  {
   "cell_type": "code",
   "execution_count": 2,
   "metadata": {},
   "outputs": [],
   "source": [
    "\n",
    "  \n",
    "data[\"tokens\"] = data[\"tokens\"].map(lambda x: str(x).split(\",\"))\n"
   ]
  },
  {
   "cell_type": "code",
   "execution_count": 3,
   "metadata": {},
   "outputs": [],
   "source": [
    "\n",
    "                                      \n",
    "# Create a dictionary from ‘tokens’ containing the number of times a word appears in the training set.\n",
    "\n",
    "from gensim import corpora\n",
    "\n",
    "text_data = data[\"tokens\"]\n",
    "dictionary = corpora.Dictionary(text_data)\n",
    "dictionary.filter_extremes(no_below=5, no_above=0.5, keep_n=1000)\n",
    "corpus = [dictionary.doc2bow(text) for text in text_data]\n",
    "\n"
   ]
  },
  {
   "cell_type": "code",
   "execution_count": 4,
   "metadata": {},
   "outputs": [],
   "source": [
    "\n",
    "import pickle\n",
    "pickle.dump(corpus, open('corpus.pkl', 'wb'))\n",
    "dictionary.save('dictionary.gensim')\n"
   ]
  },
  {
   "cell_type": "code",
   "execution_count": 5,
   "metadata": {},
   "outputs": [
    {
     "name": "stdout",
     "output_type": "stream",
     "text": [
      "(0, '0.090*\"தேர்தல்\" + 0.031*\"ஜெயலலிதா\" + 0.024*\"புதிய\" + 0.023*\"முதல்வர்\"')\n",
      "(1, '0.042*\"மோதல்\" + 0.040*\"நாளை\" + 0.038*\"கோடி\" + 0.037*\"இன்று\"')\n",
      "(2, '0.088*\"பலி\" + 0.038*\"மோதி\" + 0.036*\"பஸ்\" + 0.034*\"மக்கள்\"')\n",
      "(3, '0.056*\"தடை\" + 0.035*\"கோயில்\" + 0.034*\"பிரதமர்\" + 0.032*\"வேண்டு\"')\n",
      "(4, '0.038*\"தலைவர்\" + 0.036*\"விலை\" + 0.030*\"முதல்வர்\" + 0.023*\"ஐகோர்ட்\"')\n",
      "(5, '0.087*\"கைது\" + 0.086*\"கொலை\" + 0.042*\"டைமிங்\" + 0.037*\"ஷாட்\"')\n",
      "(6, '0.088*\"வழக்கு\" + 0.044*\"போலீஸ்\" + 0.038*\"மாணவி\" + 0.035*\"ஆண்டு\"')\n",
      "(7, '0.070*\"லட்சம்\" + 0.056*\"திமுக\" + 0.037*\"பறிமுதல்\" + 0.032*\"பணம்\"')\n",
      "(8, '0.036*\"பயங்கரம்\" + 0.033*\"தாக்குதல்\" + 0.032*\"செய்\" + 0.031*\"அமெரிக்கா\"')\n",
      "(9, '0.044*\"வது\" + 0.038*\"ரயில்\" + 0.035*\"ல்\" + 0.026*\"கடத்தல்\"')\n",
      "(10, '0.054*\"வெற்றி\" + 0.035*\"திடீர்\" + 0.032*\"வீடு\" + 0.024*\"கொள்ளை\"')\n",
      "(11, '0.079*\"அரசு\" + 0.035*\"வீட்டில்\" + 0.030*\"கொள்ளை\" + 0.023*\"கல்வி\"')\n",
      "(12, '0.034*\"_\" + 0.032*\"அரசு\" + 0.025*\"நடிகை\" + 0.022*\"சச்சின்\"')\n",
      "(13, '0.063*\"இந்தியா\" + 0.061*\"பெண்\" + 0.032*\"வீரர்\" + 0.024*\"ராணுவம்\"')\n",
      "(14, '0.074*\"கிளிப்பிங்ஸ்\" + 0.044*\"சென்னை\" + 0.042*\"சாவு\" + 0.033*\"கல்வி\"')\n"
     ]
    }
   ],
   "source": [
    "from gensim.models import LdaMulticore\n",
    "\n",
    "NUM_TOPICS = 15\n",
    "ldamodel = LdaMulticore(corpus=corpus, id2word=dictionary, iterations=50, num_topics=NUM_TOPICS, workers = 4, passes=10)\n",
    "ldamodel.save('LDAmodel.gensim')\n",
    "topics = ldamodel.print_topics(num_words=4)\n",
    "for topic in topics:\n",
    "    print(topic)"
   ]
  },
  {
   "cell_type": "code",
   "execution_count": 6,
   "metadata": {},
   "outputs": [],
   "source": [
    "from gensim.models import CoherenceModel\n",
    "\n",
    "topics = []\n",
    "score = []\n",
    "for i in range(1,16,1):\n",
    "   lda_model = LdaMulticore(corpus=corpus, id2word=dictionary, iterations=10, num_topics=i, workers = 4, passes=10, random_state=100)\n",
    "   cm = CoherenceModel(model=lda_model, texts = data['tokens'], corpus=corpus, dictionary=dictionary, coherence='u_mass')\n",
    "   topics.append(i)\n",
    "   score.append(cm.get_coherence())"
   ]
  },
  {
   "cell_type": "code",
   "execution_count": 7,
   "metadata": {},
   "outputs": [
    {
     "data": {
      "image/png": "[encoded data removed]",
      "text/plain": [
       "<Figure size 640x480 with 1 Axes>"
      ]
     },
     "metadata": {},
     "output_type": "display_data"
    }
   ],
   "source": [
    "import matplotlib.pyplot as plt\n",
    "plt.plot(topics, score)\n",
    "plt.xlabel('Number of Topics')\n",
    "plt.ylabel('Coherence Score')\n",
    "plt.show()"
   ]
  },
  {
   "cell_type": "code",
   "execution_count": 8,
   "metadata": {},
   "outputs": [
    {
     "data": {
      "text/plain": [
       "[-10.161600479030046,\n",
       " -11.918713076319165,\n",
       " -12.143200324112792,\n",
       " -12.550141165269727,\n",
       " -13.132706174259535,\n",
       " -13.622309284569496,\n",
       " -14.71831713293709,\n",
       " -14.383724226879211,\n",
       " -14.65012582905207,\n",
       " -15.48717220125575,\n",
       " -15.097877335148485,\n",
       " -15.115403687422045,\n",
       " -15.548480034568705,\n",
       " -16.07869559316126,\n",
       " -15.533392538214795]"
      ]
     },
     "execution_count": 8,
     "metadata": {},
     "output_type": "execute_result"
    }
   ],
   "source": [
    "score"
   ]
  },
  {
   "cell_type": "code",
   "execution_count": 9,
   "metadata": {},
   "outputs": [
    {
     "name": "stderr",
     "output_type": "stream",
     "text": [
      "/Users/samyuktha/opt/anaconda3/envs/ml/lib/python3.9/site-packages/pyLDAvis/_prepare.py:243: FutureWarning: In a future version of pandas all arguments of DataFrame.drop except for the argument 'labels' will be keyword-only.\n",
      "  default_term_info = default_term_info.sort_values(\n"
     ]
    }
   ],
   "source": [
    "import pyLDAvis.gensim_models\n",
    "import pyLDAvis.gensim_models as gensimvis\n",
    "\n",
    "pyLDAvis.enable_notebook()\n",
    "\n",
    "lda_viz = gensimvis.prepare(ldamodel, corpus, dictionary)\n",
    "pyLDAvis.save_html(lda_viz, 'lda.html')\n"
   ]
  },
  {
   "cell_type": "code",
   "execution_count": 10,
   "metadata": {},
   "outputs": [
    {
     "name": "stdout",
     "output_type": "stream",
     "text": [
      "Coherence Score: 0.48064196\n"
     ]
    }
   ],
   "source": [
    "from gensim.models import KeyedVectors\n",
    "from gensim.models import word2vec\n",
    "from gensim import corpora, models\n",
    "\n",
    "# Load pre-trained Word2Vec model for Tamil language\n",
    "model_path = \"/Users/samyuktha/FYP/data/cc.ta.300.vec.gz\"\n",
    "w2v_model = KeyedVectors.load_word2vec_format(model_path)\n",
    "\n",
    "# Compute coherence score using Word2Vec similarity measure\n",
    "\n",
    "cm = CoherenceModel(model=lda_model, texts = data['tokens'], \n",
    "corpus=corpus, dictionary=dictionary, \n",
    "coherence='c_w2v',keyed_vectors=w2v_model)\n",
    "\n",
    "coherence_score = cm.get_coherence()\n",
    "\n",
    "print(\"Coherence Score:\", coherence_score)"
   ]
  },
  {
   "cell_type": "code",
   "execution_count": null,
   "metadata": {},
   "outputs": [],
   "source": []
  },
  {
   "cell_type": "code",
   "execution_count": null,
   "metadata": {},
   "outputs": [],
   "source": []
  },
  {
   "cell_type": "code",
   "execution_count": null,
   "metadata": {},
   "outputs": [],
   "source": []
  },
  {
   "cell_type": "code",
   "execution_count": null,
   "metadata": {},
   "outputs": [],
   "source": []
  },
  {
   "cell_type": "code",
   "execution_count": null,
   "metadata": {},
   "outputs": [],
   "source": []
  }
 ],
 "metadata": {
  "kernelspec": {
   "display_name": "Python 3 (ipykernel)",
   "language": "python",
   "name": "python3"
  },
  "language_info": {
   "codemirror_mode": {
    "name": "ipython",
    "version": 3
   },
   "file_extension": ".py",
   "mimetype": "text/x-python",
   "name": "python",
   "nbconvert_exporter": "python",
   "pygments_lexer": "ipython3",
   "version": "3.9.16"
  },
  "vscode": {
   "interpreter": {
    "hash": "81d518d1e48d199da8423eff544d8480875ecb6f07d73a90678e3eb761322624"
   }
  }
 },
 "nbformat": 4,
 "nbformat_minor": 2
}
